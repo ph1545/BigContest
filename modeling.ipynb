{
 "cells": [
  {
   "cell_type": "code",
   "execution_count": 1,
   "metadata": {},
   "outputs": [
    {
     "name": "stdout",
     "output_type": "stream",
     "text": [
      "[WinError 3] 지정된 경로를 찾을 수 없습니다: 'C:/Users/KimTaegwan/Documents/BigContest'\n",
      "C:\\Users\\user\\Downloads\\챌린지리그\\챌린지리그\\10.08 모델링\n"
     ]
    }
   ],
   "source": [
    "cd C:/Users/KimTaegwan/Documents/BigContest"
   ]
  },
  {
   "cell_type": "code",
   "execution_count": 2,
   "metadata": {},
   "outputs": [
    {
     "name": "stderr",
     "output_type": "stream",
     "text": [
      "C:\\ProgramData\\Anaconda3\\lib\\site-packages\\sklearn\\cross_validation.py:41: DeprecationWarning: This module was deprecated in version 0.18 in favor of the model_selection module into which all the refactored classes and functions are moved. Also note that the interface of the new CV iterators are different from that of this module. This module will be removed in 0.20.\n",
      "  \"This module will be removed in 0.20.\", DeprecationWarning)\n"
     ]
    }
   ],
   "source": [
    "# pandas\n",
    "import pandas as pd\n",
    "from pandas import Series,DataFrame\n",
    "\n",
    "# numpy, matplotlib, seaborn\n",
    "import numpy as np\n",
    "\n",
    "#test and score\n",
    "from sklearn.cross_validation import train_test_split\n",
    "from sklearn.metrics import accuracy_score, f1_score, precision_score, recall_score\n",
    "\n",
    "from sklearn.model_selection import KFold, cross_val_score, cross_val_predict, GridSearchCV\n",
    "from sklearn.preprocessing import MinMaxScaler, LabelEncoder, OneHotEncoder, RobustScaler\n",
    "\n",
    "import random as rd\n",
    "from imblearn.over_sampling import RandomOverSampler, SMOTE, ADASYN\n",
    "from collections import Counter\n",
    "import xgboost as xgb\n",
    "from xgboost.sklearn import XGBClassifier\n",
    "from sklearn import cross_validation, metrics   #Additional scklearn functions"
   ]
  },
  {
   "cell_type": "code",
   "execution_count": 3,
   "metadata": {
    "collapsed": true
   },
   "outputs": [],
   "source": [
    "#(9/27 변수디풀트 +(신용카드,신용등급 one-hot 인코딩))\n",
    "Train = pd.read_csv(\"final.csv\",encoding='EUC-KR') "
   ]
  },
  {
   "cell_type": "code",
   "execution_count": 4,
   "metadata": {
    "scrolled": true
   },
   "outputs": [
    {
     "data": {
      "text/html": [
       "<div>\n",
       "<style>\n",
       "    .dataframe thead tr:only-child th {\n",
       "        text-align: right;\n",
       "    }\n",
       "\n",
       "    .dataframe thead th {\n",
       "        text-align: left;\n",
       "    }\n",
       "\n",
       "    .dataframe tbody tr th {\n",
       "        vertical-align: top;\n",
       "    }\n",
       "</style>\n",
       "<table border=\"1\" class=\"dataframe\">\n",
       "  <thead>\n",
       "    <tr style=\"text-align: right;\">\n",
       "      <th></th>\n",
       "      <th>CHLD_AGE_10s</th>\n",
       "      <th>CHLD_AGE_29s</th>\n",
       "      <th>YEAR08-09_@</th>\n",
       "    </tr>\n",
       "  </thead>\n",
       "  <tbody>\n",
       "    <tr>\n",
       "      <th>0</th>\n",
       "      <td>1.0</td>\n",
       "      <td>0.0</td>\n",
       "      <td>NaN</td>\n",
       "    </tr>\n",
       "    <tr>\n",
       "      <th>1</th>\n",
       "      <td>1.0</td>\n",
       "      <td>1.0</td>\n",
       "      <td>NaN</td>\n",
       "    </tr>\n",
       "    <tr>\n",
       "      <th>2</th>\n",
       "      <td>1.0</td>\n",
       "      <td>1.0</td>\n",
       "      <td>NaN</td>\n",
       "    </tr>\n",
       "    <tr>\n",
       "      <th>3</th>\n",
       "      <td>0.0</td>\n",
       "      <td>0.0</td>\n",
       "      <td>NaN</td>\n",
       "    </tr>\n",
       "    <tr>\n",
       "      <th>4</th>\n",
       "      <td>1.0</td>\n",
       "      <td>0.0</td>\n",
       "      <td>NaN</td>\n",
       "    </tr>\n",
       "    <tr>\n",
       "      <th>5</th>\n",
       "      <td>0.0</td>\n",
       "      <td>0.0</td>\n",
       "      <td>NaN</td>\n",
       "    </tr>\n",
       "    <tr>\n",
       "      <th>6</th>\n",
       "      <td>1.0</td>\n",
       "      <td>0.0</td>\n",
       "      <td>NaN</td>\n",
       "    </tr>\n",
       "    <tr>\n",
       "      <th>7</th>\n",
       "      <td>1.0</td>\n",
       "      <td>0.0</td>\n",
       "      <td>NaN</td>\n",
       "    </tr>\n",
       "    <tr>\n",
       "      <th>8</th>\n",
       "      <td>0.0</td>\n",
       "      <td>0.0</td>\n",
       "      <td>NaN</td>\n",
       "    </tr>\n",
       "    <tr>\n",
       "      <th>9</th>\n",
       "      <td>1.0</td>\n",
       "      <td>0.0</td>\n",
       "      <td>NaN</td>\n",
       "    </tr>\n",
       "    <tr>\n",
       "      <th>10</th>\n",
       "      <td>1.0</td>\n",
       "      <td>0.0</td>\n",
       "      <td>NaN</td>\n",
       "    </tr>\n",
       "    <tr>\n",
       "      <th>11</th>\n",
       "      <td>0.0</td>\n",
       "      <td>0.0</td>\n",
       "      <td>NaN</td>\n",
       "    </tr>\n",
       "    <tr>\n",
       "      <th>12</th>\n",
       "      <td>0.0</td>\n",
       "      <td>0.0</td>\n",
       "      <td>NaN</td>\n",
       "    </tr>\n",
       "    <tr>\n",
       "      <th>13</th>\n",
       "      <td>0.0</td>\n",
       "      <td>0.0</td>\n",
       "      <td>NaN</td>\n",
       "    </tr>\n",
       "    <tr>\n",
       "      <th>14</th>\n",
       "      <td>0.0</td>\n",
       "      <td>0.0</td>\n",
       "      <td>NaN</td>\n",
       "    </tr>\n",
       "    <tr>\n",
       "      <th>15</th>\n",
       "      <td>1.0</td>\n",
       "      <td>0.0</td>\n",
       "      <td>NaN</td>\n",
       "    </tr>\n",
       "    <tr>\n",
       "      <th>16</th>\n",
       "      <td>1.0</td>\n",
       "      <td>0.0</td>\n",
       "      <td>1.0</td>\n",
       "    </tr>\n",
       "    <tr>\n",
       "      <th>17</th>\n",
       "      <td>0.0</td>\n",
       "      <td>0.0</td>\n",
       "      <td>NaN</td>\n",
       "    </tr>\n",
       "    <tr>\n",
       "      <th>18</th>\n",
       "      <td>1.0</td>\n",
       "      <td>0.0</td>\n",
       "      <td>NaN</td>\n",
       "    </tr>\n",
       "    <tr>\n",
       "      <th>19</th>\n",
       "      <td>0.0</td>\n",
       "      <td>0.0</td>\n",
       "      <td>NaN</td>\n",
       "    </tr>\n",
       "    <tr>\n",
       "      <th>20</th>\n",
       "      <td>0.0</td>\n",
       "      <td>0.0</td>\n",
       "      <td>NaN</td>\n",
       "    </tr>\n",
       "    <tr>\n",
       "      <th>21</th>\n",
       "      <td>0.0</td>\n",
       "      <td>0.0</td>\n",
       "      <td>NaN</td>\n",
       "    </tr>\n",
       "    <tr>\n",
       "      <th>22</th>\n",
       "      <td>NaN</td>\n",
       "      <td>NaN</td>\n",
       "      <td>NaN</td>\n",
       "    </tr>\n",
       "    <tr>\n",
       "      <th>23</th>\n",
       "      <td>0.0</td>\n",
       "      <td>0.0</td>\n",
       "      <td>NaN</td>\n",
       "    </tr>\n",
       "    <tr>\n",
       "      <th>24</th>\n",
       "      <td>1.0</td>\n",
       "      <td>0.0</td>\n",
       "      <td>NaN</td>\n",
       "    </tr>\n",
       "    <tr>\n",
       "      <th>25</th>\n",
       "      <td>0.0</td>\n",
       "      <td>0.0</td>\n",
       "      <td>NaN</td>\n",
       "    </tr>\n",
       "    <tr>\n",
       "      <th>26</th>\n",
       "      <td>1.0</td>\n",
       "      <td>0.0</td>\n",
       "      <td>NaN</td>\n",
       "    </tr>\n",
       "    <tr>\n",
       "      <th>27</th>\n",
       "      <td>1.0</td>\n",
       "      <td>0.0</td>\n",
       "      <td>NaN</td>\n",
       "    </tr>\n",
       "    <tr>\n",
       "      <th>28</th>\n",
       "      <td>0.0</td>\n",
       "      <td>0.0</td>\n",
       "      <td>NaN</td>\n",
       "    </tr>\n",
       "    <tr>\n",
       "      <th>29</th>\n",
       "      <td>0.0</td>\n",
       "      <td>0.0</td>\n",
       "      <td>NaN</td>\n",
       "    </tr>\n",
       "    <tr>\n",
       "      <th>...</th>\n",
       "      <td>...</td>\n",
       "      <td>...</td>\n",
       "      <td>...</td>\n",
       "    </tr>\n",
       "    <tr>\n",
       "      <th>100203</th>\n",
       "      <td>0.0</td>\n",
       "      <td>0.0</td>\n",
       "      <td>NaN</td>\n",
       "    </tr>\n",
       "    <tr>\n",
       "      <th>100204</th>\n",
       "      <td>0.0</td>\n",
       "      <td>0.0</td>\n",
       "      <td>NaN</td>\n",
       "    </tr>\n",
       "    <tr>\n",
       "      <th>100205</th>\n",
       "      <td>0.0</td>\n",
       "      <td>0.0</td>\n",
       "      <td>NaN</td>\n",
       "    </tr>\n",
       "    <tr>\n",
       "      <th>100206</th>\n",
       "      <td>1.0</td>\n",
       "      <td>1.0</td>\n",
       "      <td>NaN</td>\n",
       "    </tr>\n",
       "    <tr>\n",
       "      <th>100207</th>\n",
       "      <td>0.0</td>\n",
       "      <td>0.0</td>\n",
       "      <td>NaN</td>\n",
       "    </tr>\n",
       "    <tr>\n",
       "      <th>100208</th>\n",
       "      <td>1.0</td>\n",
       "      <td>1.0</td>\n",
       "      <td>NaN</td>\n",
       "    </tr>\n",
       "    <tr>\n",
       "      <th>100209</th>\n",
       "      <td>1.0</td>\n",
       "      <td>0.0</td>\n",
       "      <td>NaN</td>\n",
       "    </tr>\n",
       "    <tr>\n",
       "      <th>100210</th>\n",
       "      <td>0.0</td>\n",
       "      <td>0.0</td>\n",
       "      <td>NaN</td>\n",
       "    </tr>\n",
       "    <tr>\n",
       "      <th>100211</th>\n",
       "      <td>1.0</td>\n",
       "      <td>0.0</td>\n",
       "      <td>NaN</td>\n",
       "    </tr>\n",
       "    <tr>\n",
       "      <th>100212</th>\n",
       "      <td>1.0</td>\n",
       "      <td>1.0</td>\n",
       "      <td>NaN</td>\n",
       "    </tr>\n",
       "    <tr>\n",
       "      <th>100213</th>\n",
       "      <td>0.0</td>\n",
       "      <td>0.0</td>\n",
       "      <td>NaN</td>\n",
       "    </tr>\n",
       "    <tr>\n",
       "      <th>100214</th>\n",
       "      <td>0.0</td>\n",
       "      <td>0.0</td>\n",
       "      <td>NaN</td>\n",
       "    </tr>\n",
       "    <tr>\n",
       "      <th>100215</th>\n",
       "      <td>0.0</td>\n",
       "      <td>0.0</td>\n",
       "      <td>NaN</td>\n",
       "    </tr>\n",
       "    <tr>\n",
       "      <th>100216</th>\n",
       "      <td>0.0</td>\n",
       "      <td>0.0</td>\n",
       "      <td>NaN</td>\n",
       "    </tr>\n",
       "    <tr>\n",
       "      <th>100217</th>\n",
       "      <td>0.0</td>\n",
       "      <td>0.0</td>\n",
       "      <td>NaN</td>\n",
       "    </tr>\n",
       "    <tr>\n",
       "      <th>100218</th>\n",
       "      <td>1.0</td>\n",
       "      <td>1.0</td>\n",
       "      <td>NaN</td>\n",
       "    </tr>\n",
       "    <tr>\n",
       "      <th>100219</th>\n",
       "      <td>1.0</td>\n",
       "      <td>1.0</td>\n",
       "      <td>NaN</td>\n",
       "    </tr>\n",
       "    <tr>\n",
       "      <th>100220</th>\n",
       "      <td>0.0</td>\n",
       "      <td>0.0</td>\n",
       "      <td>NaN</td>\n",
       "    </tr>\n",
       "    <tr>\n",
       "      <th>100221</th>\n",
       "      <td>0.0</td>\n",
       "      <td>0.0</td>\n",
       "      <td>NaN</td>\n",
       "    </tr>\n",
       "    <tr>\n",
       "      <th>100222</th>\n",
       "      <td>0.0</td>\n",
       "      <td>0.0</td>\n",
       "      <td>NaN</td>\n",
       "    </tr>\n",
       "    <tr>\n",
       "      <th>100223</th>\n",
       "      <td>0.0</td>\n",
       "      <td>0.0</td>\n",
       "      <td>NaN</td>\n",
       "    </tr>\n",
       "    <tr>\n",
       "      <th>100224</th>\n",
       "      <td>0.0</td>\n",
       "      <td>0.0</td>\n",
       "      <td>NaN</td>\n",
       "    </tr>\n",
       "    <tr>\n",
       "      <th>100225</th>\n",
       "      <td>0.0</td>\n",
       "      <td>0.0</td>\n",
       "      <td>NaN</td>\n",
       "    </tr>\n",
       "    <tr>\n",
       "      <th>100226</th>\n",
       "      <td>NaN</td>\n",
       "      <td>NaN</td>\n",
       "      <td>NaN</td>\n",
       "    </tr>\n",
       "    <tr>\n",
       "      <th>100227</th>\n",
       "      <td>0.0</td>\n",
       "      <td>0.0</td>\n",
       "      <td>1.0</td>\n",
       "    </tr>\n",
       "    <tr>\n",
       "      <th>100228</th>\n",
       "      <td>1.0</td>\n",
       "      <td>1.0</td>\n",
       "      <td>NaN</td>\n",
       "    </tr>\n",
       "    <tr>\n",
       "      <th>100229</th>\n",
       "      <td>1.0</td>\n",
       "      <td>0.0</td>\n",
       "      <td>NaN</td>\n",
       "    </tr>\n",
       "    <tr>\n",
       "      <th>100230</th>\n",
       "      <td>1.0</td>\n",
       "      <td>0.0</td>\n",
       "      <td>NaN</td>\n",
       "    </tr>\n",
       "    <tr>\n",
       "      <th>100231</th>\n",
       "      <td>0.0</td>\n",
       "      <td>0.0</td>\n",
       "      <td>NaN</td>\n",
       "    </tr>\n",
       "    <tr>\n",
       "      <th>100232</th>\n",
       "      <td>1.0</td>\n",
       "      <td>0.0</td>\n",
       "      <td>NaN</td>\n",
       "    </tr>\n",
       "  </tbody>\n",
       "</table>\n",
       "<p>100233 rows × 3 columns</p>\n",
       "</div>"
      ],
      "text/plain": [
       "        CHLD_AGE_10s  CHLD_AGE_29s  YEAR08-09_@\n",
       "0                1.0           0.0          NaN\n",
       "1                1.0           1.0          NaN\n",
       "2                1.0           1.0          NaN\n",
       "3                0.0           0.0          NaN\n",
       "4                1.0           0.0          NaN\n",
       "5                0.0           0.0          NaN\n",
       "6                1.0           0.0          NaN\n",
       "7                1.0           0.0          NaN\n",
       "8                0.0           0.0          NaN\n",
       "9                1.0           0.0          NaN\n",
       "10               1.0           0.0          NaN\n",
       "11               0.0           0.0          NaN\n",
       "12               0.0           0.0          NaN\n",
       "13               0.0           0.0          NaN\n",
       "14               0.0           0.0          NaN\n",
       "15               1.0           0.0          NaN\n",
       "16               1.0           0.0          1.0\n",
       "17               0.0           0.0          NaN\n",
       "18               1.0           0.0          NaN\n",
       "19               0.0           0.0          NaN\n",
       "20               0.0           0.0          NaN\n",
       "21               0.0           0.0          NaN\n",
       "22               NaN           NaN          NaN\n",
       "23               0.0           0.0          NaN\n",
       "24               1.0           0.0          NaN\n",
       "25               0.0           0.0          NaN\n",
       "26               1.0           0.0          NaN\n",
       "27               1.0           0.0          NaN\n",
       "28               0.0           0.0          NaN\n",
       "29               0.0           0.0          NaN\n",
       "...              ...           ...          ...\n",
       "100203           0.0           0.0          NaN\n",
       "100204           0.0           0.0          NaN\n",
       "100205           0.0           0.0          NaN\n",
       "100206           1.0           1.0          NaN\n",
       "100207           0.0           0.0          NaN\n",
       "100208           1.0           1.0          NaN\n",
       "100209           1.0           0.0          NaN\n",
       "100210           0.0           0.0          NaN\n",
       "100211           1.0           0.0          NaN\n",
       "100212           1.0           1.0          NaN\n",
       "100213           0.0           0.0          NaN\n",
       "100214           0.0           0.0          NaN\n",
       "100215           0.0           0.0          NaN\n",
       "100216           0.0           0.0          NaN\n",
       "100217           0.0           0.0          NaN\n",
       "100218           1.0           1.0          NaN\n",
       "100219           1.0           1.0          NaN\n",
       "100220           0.0           0.0          NaN\n",
       "100221           0.0           0.0          NaN\n",
       "100222           0.0           0.0          NaN\n",
       "100223           0.0           0.0          NaN\n",
       "100224           0.0           0.0          NaN\n",
       "100225           0.0           0.0          NaN\n",
       "100226           NaN           NaN          NaN\n",
       "100227           0.0           0.0          1.0\n",
       "100228           1.0           1.0          NaN\n",
       "100229           1.0           0.0          NaN\n",
       "100230           1.0           0.0          NaN\n",
       "100231           0.0           0.0          NaN\n",
       "100232           1.0           0.0          NaN\n",
       "\n",
       "[100233 rows x 3 columns]"
      ]
     },
     "execution_count": 4,
     "metadata": {},
     "output_type": "execute_result"
    }
   ],
   "source": [
    "Train.loc[:, Train.isnull().any()]"
   ]
  },
  {
   "cell_type": "code",
   "execution_count": 5,
   "metadata": {
    "collapsed": true
   },
   "outputs": [],
   "source": [
    "#위에서 Nan을 포함하는 변수 지워주기\n",
    "Train = Train.drop(labels=([\"CHLD_AGE_10s\",\"CHLD_AGE_29s\",\"YEAR08-09_@\"]),axis=1)"
   ]
  },
  {
   "cell_type": "code",
   "execution_count": 6,
   "metadata": {
    "scrolled": true
   },
   "outputs": [
    {
     "data": {
      "text/html": [
       "<div>\n",
       "<style>\n",
       "    .dataframe thead tr:only-child th {\n",
       "        text-align: right;\n",
       "    }\n",
       "\n",
       "    .dataframe thead th {\n",
       "        text-align: left;\n",
       "    }\n",
       "\n",
       "    .dataframe tbody tr th {\n",
       "        vertical-align: top;\n",
       "    }\n",
       "</style>\n",
       "<table border=\"1\" class=\"dataframe\">\n",
       "  <thead>\n",
       "    <tr style=\"text-align: right;\">\n",
       "      <th></th>\n",
       "      <th>RATIO_30OVDU_RATE</th>\n",
       "    </tr>\n",
       "  </thead>\n",
       "  <tbody>\n",
       "    <tr>\n",
       "      <th>0</th>\n",
       "      <td>0.00000</td>\n",
       "    </tr>\n",
       "    <tr>\n",
       "      <th>1</th>\n",
       "      <td>0.00000</td>\n",
       "    </tr>\n",
       "    <tr>\n",
       "      <th>2</th>\n",
       "      <td>0.00000</td>\n",
       "    </tr>\n",
       "    <tr>\n",
       "      <th>3</th>\n",
       "      <td>0.00000</td>\n",
       "    </tr>\n",
       "    <tr>\n",
       "      <th>4</th>\n",
       "      <td>0.00000</td>\n",
       "    </tr>\n",
       "    <tr>\n",
       "      <th>5</th>\n",
       "      <td>0.00000</td>\n",
       "    </tr>\n",
       "    <tr>\n",
       "      <th>6</th>\n",
       "      <td>0.17284</td>\n",
       "    </tr>\n",
       "    <tr>\n",
       "      <th>7</th>\n",
       "      <td>0.00000</td>\n",
       "    </tr>\n",
       "    <tr>\n",
       "      <th>8</th>\n",
       "      <td>0.00000</td>\n",
       "    </tr>\n",
       "    <tr>\n",
       "      <th>9</th>\n",
       "      <td>0.00000</td>\n",
       "    </tr>\n",
       "    <tr>\n",
       "      <th>10</th>\n",
       "      <td>0.00000</td>\n",
       "    </tr>\n",
       "    <tr>\n",
       "      <th>11</th>\n",
       "      <td>0.00000</td>\n",
       "    </tr>\n",
       "    <tr>\n",
       "      <th>12</th>\n",
       "      <td>0.00000</td>\n",
       "    </tr>\n",
       "    <tr>\n",
       "      <th>13</th>\n",
       "      <td>0.00000</td>\n",
       "    </tr>\n",
       "    <tr>\n",
       "      <th>14</th>\n",
       "      <td>0.00000</td>\n",
       "    </tr>\n",
       "    <tr>\n",
       "      <th>15</th>\n",
       "      <td>0.00000</td>\n",
       "    </tr>\n",
       "    <tr>\n",
       "      <th>16</th>\n",
       "      <td>0.00000</td>\n",
       "    </tr>\n",
       "    <tr>\n",
       "      <th>17</th>\n",
       "      <td>0.00000</td>\n",
       "    </tr>\n",
       "    <tr>\n",
       "      <th>18</th>\n",
       "      <td>0.00000</td>\n",
       "    </tr>\n",
       "    <tr>\n",
       "      <th>19</th>\n",
       "      <td>0.00000</td>\n",
       "    </tr>\n",
       "    <tr>\n",
       "      <th>20</th>\n",
       "      <td>0.00000</td>\n",
       "    </tr>\n",
       "    <tr>\n",
       "      <th>21</th>\n",
       "      <td>0.00000</td>\n",
       "    </tr>\n",
       "    <tr>\n",
       "      <th>22</th>\n",
       "      <td>0.00000</td>\n",
       "    </tr>\n",
       "    <tr>\n",
       "      <th>23</th>\n",
       "      <td>0.00000</td>\n",
       "    </tr>\n",
       "    <tr>\n",
       "      <th>24</th>\n",
       "      <td>0.00000</td>\n",
       "    </tr>\n",
       "    <tr>\n",
       "      <th>25</th>\n",
       "      <td>0.00000</td>\n",
       "    </tr>\n",
       "    <tr>\n",
       "      <th>26</th>\n",
       "      <td>0.00000</td>\n",
       "    </tr>\n",
       "    <tr>\n",
       "      <th>27</th>\n",
       "      <td>0.00000</td>\n",
       "    </tr>\n",
       "    <tr>\n",
       "      <th>28</th>\n",
       "      <td>0.00000</td>\n",
       "    </tr>\n",
       "    <tr>\n",
       "      <th>29</th>\n",
       "      <td>0.00000</td>\n",
       "    </tr>\n",
       "    <tr>\n",
       "      <th>...</th>\n",
       "      <td>...</td>\n",
       "    </tr>\n",
       "    <tr>\n",
       "      <th>100203</th>\n",
       "      <td>0.00000</td>\n",
       "    </tr>\n",
       "    <tr>\n",
       "      <th>100204</th>\n",
       "      <td>0.00000</td>\n",
       "    </tr>\n",
       "    <tr>\n",
       "      <th>100205</th>\n",
       "      <td>0.00000</td>\n",
       "    </tr>\n",
       "    <tr>\n",
       "      <th>100206</th>\n",
       "      <td>0.00000</td>\n",
       "    </tr>\n",
       "    <tr>\n",
       "      <th>100207</th>\n",
       "      <td>0.00000</td>\n",
       "    </tr>\n",
       "    <tr>\n",
       "      <th>100208</th>\n",
       "      <td>0.00000</td>\n",
       "    </tr>\n",
       "    <tr>\n",
       "      <th>100209</th>\n",
       "      <td>0.00000</td>\n",
       "    </tr>\n",
       "    <tr>\n",
       "      <th>100210</th>\n",
       "      <td>0.00000</td>\n",
       "    </tr>\n",
       "    <tr>\n",
       "      <th>100211</th>\n",
       "      <td>0.00000</td>\n",
       "    </tr>\n",
       "    <tr>\n",
       "      <th>100212</th>\n",
       "      <td>0.00000</td>\n",
       "    </tr>\n",
       "    <tr>\n",
       "      <th>100213</th>\n",
       "      <td>0.00000</td>\n",
       "    </tr>\n",
       "    <tr>\n",
       "      <th>100214</th>\n",
       "      <td>0.00000</td>\n",
       "    </tr>\n",
       "    <tr>\n",
       "      <th>100215</th>\n",
       "      <td>0.00000</td>\n",
       "    </tr>\n",
       "    <tr>\n",
       "      <th>100216</th>\n",
       "      <td>0.00000</td>\n",
       "    </tr>\n",
       "    <tr>\n",
       "      <th>100217</th>\n",
       "      <td>0.00000</td>\n",
       "    </tr>\n",
       "    <tr>\n",
       "      <th>100218</th>\n",
       "      <td>0.00000</td>\n",
       "    </tr>\n",
       "    <tr>\n",
       "      <th>100219</th>\n",
       "      <td>0.00000</td>\n",
       "    </tr>\n",
       "    <tr>\n",
       "      <th>100220</th>\n",
       "      <td>0.00000</td>\n",
       "    </tr>\n",
       "    <tr>\n",
       "      <th>100221</th>\n",
       "      <td>0.00000</td>\n",
       "    </tr>\n",
       "    <tr>\n",
       "      <th>100222</th>\n",
       "      <td>0.00000</td>\n",
       "    </tr>\n",
       "    <tr>\n",
       "      <th>100223</th>\n",
       "      <td>0.00000</td>\n",
       "    </tr>\n",
       "    <tr>\n",
       "      <th>100224</th>\n",
       "      <td>0.00000</td>\n",
       "    </tr>\n",
       "    <tr>\n",
       "      <th>100225</th>\n",
       "      <td>0.00000</td>\n",
       "    </tr>\n",
       "    <tr>\n",
       "      <th>100226</th>\n",
       "      <td>0.00000</td>\n",
       "    </tr>\n",
       "    <tr>\n",
       "      <th>100227</th>\n",
       "      <td>0.00000</td>\n",
       "    </tr>\n",
       "    <tr>\n",
       "      <th>100228</th>\n",
       "      <td>0.00000</td>\n",
       "    </tr>\n",
       "    <tr>\n",
       "      <th>100229</th>\n",
       "      <td>0.00000</td>\n",
       "    </tr>\n",
       "    <tr>\n",
       "      <th>100230</th>\n",
       "      <td>0.00000</td>\n",
       "    </tr>\n",
       "    <tr>\n",
       "      <th>100231</th>\n",
       "      <td>0.00000</td>\n",
       "    </tr>\n",
       "    <tr>\n",
       "      <th>100232</th>\n",
       "      <td>0.00000</td>\n",
       "    </tr>\n",
       "  </tbody>\n",
       "</table>\n",
       "<p>100233 rows × 1 columns</p>\n",
       "</div>"
      ],
      "text/plain": [
       "        RATIO_30OVDU_RATE\n",
       "0                 0.00000\n",
       "1                 0.00000\n",
       "2                 0.00000\n",
       "3                 0.00000\n",
       "4                 0.00000\n",
       "5                 0.00000\n",
       "6                 0.17284\n",
       "7                 0.00000\n",
       "8                 0.00000\n",
       "9                 0.00000\n",
       "10                0.00000\n",
       "11                0.00000\n",
       "12                0.00000\n",
       "13                0.00000\n",
       "14                0.00000\n",
       "15                0.00000\n",
       "16                0.00000\n",
       "17                0.00000\n",
       "18                0.00000\n",
       "19                0.00000\n",
       "20                0.00000\n",
       "21                0.00000\n",
       "22                0.00000\n",
       "23                0.00000\n",
       "24                0.00000\n",
       "25                0.00000\n",
       "26                0.00000\n",
       "27                0.00000\n",
       "28                0.00000\n",
       "29                0.00000\n",
       "...                   ...\n",
       "100203            0.00000\n",
       "100204            0.00000\n",
       "100205            0.00000\n",
       "100206            0.00000\n",
       "100207            0.00000\n",
       "100208            0.00000\n",
       "100209            0.00000\n",
       "100210            0.00000\n",
       "100211            0.00000\n",
       "100212            0.00000\n",
       "100213            0.00000\n",
       "100214            0.00000\n",
       "100215            0.00000\n",
       "100216            0.00000\n",
       "100217            0.00000\n",
       "100218            0.00000\n",
       "100219            0.00000\n",
       "100220            0.00000\n",
       "100221            0.00000\n",
       "100222            0.00000\n",
       "100223            0.00000\n",
       "100224            0.00000\n",
       "100225            0.00000\n",
       "100226            0.00000\n",
       "100227            0.00000\n",
       "100228            0.00000\n",
       "100229            0.00000\n",
       "100230            0.00000\n",
       "100231            0.00000\n",
       "100232            0.00000\n",
       "\n",
       "[100233 rows x 1 columns]"
      ]
     },
     "execution_count": 6,
     "metadata": {},
     "output_type": "execute_result"
    }
   ],
   "source": [
    "Train.loc[:,np.isinf(Train).any()]"
   ]
  },
  {
   "cell_type": "code",
   "execution_count": 7,
   "metadata": {
    "collapsed": true
   },
   "outputs": [],
   "source": [
    "#위에서 Inf을 포함하는 변수 지워주기\n",
    "Train = Train.drop(labels=([\"RATIO_30OVDU_RATE\"]),axis=1)"
   ]
  },
  {
   "cell_type": "code",
   "execution_count": 8,
   "metadata": {
    "collapsed": true
   },
   "outputs": [],
   "source": [
    "X = Train.drop(\"TARGET\",axis=1)\n",
    "X = X.drop(\"CUST_ID\",axis=1)\n",
    "Y = Train[\"TARGET\"]\n",
    "\n"
   ]
  },
  {
   "cell_type": "code",
   "execution_count": 9,
   "metadata": {
    "collapsed": true
   },
   "outputs": [],
   "source": [
    "X_train, X_val, Y_train, Y_val = train_test_split(X, Y, test_size = 0.3)"
   ]
  },
  {
   "cell_type": "code",
   "execution_count": 10,
   "metadata": {
    "collapsed": true,
    "scrolled": true
   },
   "outputs": [],
   "source": [
    "#랜덤오버샘플링\n",
    "ros = RandomOverSampler(random_state=0)\n",
    "X_train, Y_train = ros.fit_sample(X_train, Y_train)\n",
    "X_train= pd.DataFrame(X_train)\n",
    "X_train.columns = X_val.columns.copy()"
   ]
  },
  {
   "cell_type": "code",
   "execution_count": 11,
   "metadata": {},
   "outputs": [
    {
     "name": "stdout",
     "output_type": "stream",
     "text": [
      "[(0, 67261), (1, 67261)]\n"
     ]
    }
   ],
   "source": [
    "print(sorted(Counter(Y_train).items()))"
   ]
  },
  {
   "cell_type": "code",
   "execution_count": 10,
   "metadata": {
    "collapsed": true
   },
   "outputs": [],
   "source": [
    "#f1_score 만들기\n",
    "def xgb_f1(y,t):\n",
    "    t = t.get_label()\n",
    "    y_bin = [1. if y_cont > 0.5 else 0. for y_cont in y] # binaryzing your output\n",
    "    return 'f1',f1_score(t,y_bin)\n",
    "\n",
    "#Xgboost Matrix\n",
    "dtrain = xgb.DMatrix(X_train, label=Y_train)\n",
    "dtest = xgb.DMatrix(X_val, label=Y_val)\n",
    "\n"
   ]
  },
  {
   "cell_type": "code",
   "execution_count": 11,
   "metadata": {
    "collapsed": true
   },
   "outputs": [],
   "source": [
    "# 랜덤오버샘플링 한 데이터셋들 아래에 있는 modelfit 함수에 적용시키기 위해서 다시 합침.\n",
    "Y_val = pd.DataFrame(Y_val)\n",
    "Y_train = pd.DataFrame(Y_train)\n",
    "X_train = pd.DataFrame(X_train)\n",
    "Y_train.columns = [\"TARGET\"]\n",
    "X_val = pd.DataFrame(X_val)\n",
    "train = pd.concat([X_train,Y_train], axis=1, ignore_index=True)\n",
    "train.columns=np.concatenate((X_train.columns.values,[\"TARGET\"]))\n",
    "test = pd.concat([X_val,Y_val], axis=1, ignore_index=True)\n",
    "test.columns=np.concatenate((X_val.columns.values,[\"TARGET\"]))\n"
   ]
  },
  {
   "cell_type": "code",
   "execution_count": 12,
   "metadata": {
    "collapsed": true
   },
   "outputs": [],
   "source": [
    "target = 'TARGET'\n",
    "IDcol = 'CUST_ID'"
   ]
  },
  {
   "cell_type": "code",
   "execution_count": 13,
   "metadata": {
    "collapsed": true
   },
   "outputs": [],
   "source": [
    "def modelfit(alg, dtrain, predictors,useTrainCV=True, cv_folds=5, early_stopping_rounds=50):\n",
    "    \n",
    "    if useTrainCV:\n",
    "        xgb_param = alg.get_xgb_params()\n",
    "        xgtrain = xgb.DMatrix(dtrain[predictors].values, label=dtrain[target].values)\n",
    "        cvresult = xgb.cv(xgb_param, xgtrain, num_boost_round=alg.get_params()['n_estimators'], nfold=cv_folds,\n",
    "            feval=xgb_f1, maximize=True,metrics='auc', early_stopping_rounds=early_stopping_rounds)\n",
    "        alg.set_params(n_estimators=cvresult.shape[0])\n",
    "    \n",
    "    #Fit the algorithm on the data\n",
    "    alg.fit(dtrain[predictors], dtrain['TARGET'],eval_metric='auc')\n",
    "        \n",
    "    #Predict training set:\n",
    "    dtrain_predictions = alg.predict(dtrain[predictors])\n",
    "    dtrain_predprob = alg.predict_proba(dtrain[predictors])[:,1]\n",
    "        \n",
    "    #Print model report:\n",
    "    print (\"\\nModel Report\")\n",
    "    print (\"Accuracy : %.4g\" % metrics.accuracy_score(dtrain['TARGET'].values, dtrain_predictions))\n",
    "    print (\"AUC Score (Train): %f\" % metrics.roc_auc_score(dtrain['TARGET'], dtrain_predprob))\n",
    "    print (\"F1 Score : %.4g\" % metrics.f1_score(dtrain['TARGET'].values, dtrain_predictions))    "
   ]
  },
  {
   "cell_type": "code",
   "execution_count": 14,
   "metadata": {
    "collapsed": true
   },
   "outputs": [],
   "source": [
    "predictors = [x for x in train.columns if x not in [target, IDcol]]"
   ]
  },
  {
   "cell_type": "code",
   "execution_count": 31,
   "metadata": {},
   "outputs": [
    {
     "name": "stdout",
     "output_type": "stream",
     "text": [
      "\n",
      "Model Report\n",
      "Accuracy : 0.9883\n",
      "AUC Score (Train): 0.999121\n",
      "F1 Score : 0.9882\n"
     ]
    }
   ],
   "source": [
    "#Choose all predictors except target & IDcols\n",
    "xgb1 = XGBClassifier(\n",
    " learning_rate =0.1,\n",
    " n_estimators=1000,\n",
    " max_depth=5,\n",
    " min_child_weight=1,\n",
    " gamma=0,\n",
    " subsample=0.8,\n",
    " colsample_bytree=0.8,\n",
    " objective= 'binary:logistic',\n",
    " nthread=-2,\n",
    " scale_pos_weight=1,\n",
    " seed=27,\n",
    "silent=False)\n",
    "modelfit(xgb1, train, predictors)"
   ]
  },
  {
   "cell_type": "code",
   "execution_count": null,
   "metadata": {
    "collapsed": true
   },
   "outputs": [],
   "source": [
    "#modelfit 함수는 적절한 반복 횟수를 찾기 위해서 씀."
   ]
  },
  {
   "cell_type": "code",
   "execution_count": 34,
   "metadata": {},
   "outputs": [
    {
     "data": {
      "text/plain": [
       "310"
      ]
     },
     "execution_count": 34,
     "metadata": {},
     "output_type": "execute_result"
    }
   ],
   "source": [
    "xgb1.n_estimators "
   ]
  },
  {
   "cell_type": "code",
   "execution_count": 18,
   "metadata": {},
   "outputs": [
    {
     "name": "stderr",
     "output_type": "stream",
     "text": [
      "C:\\ProgramData\\Anaconda3\\lib\\site-packages\\sklearn\\model_selection\\_search.py:747: DeprecationWarning: The grid_scores_ attribute was deprecated in version 0.18 in favor of the more elaborate cv_results_ attribute. The grid_scores_ attribute will not be available from 0.20\n",
      "  DeprecationWarning)\n"
     ]
    },
    {
     "data": {
      "text/plain": [
       "([mean: 0.99575, std: 0.00850, params: {'max_depth': 5, 'min_child_weight': 1},\n",
       "  mean: 0.99567, std: 0.00866, params: {'max_depth': 5, 'min_child_weight': 3},\n",
       "  mean: 0.99566, std: 0.00867, params: {'max_depth': 5, 'min_child_weight': 5},\n",
       "  mean: 0.99564, std: 0.00872, params: {'max_depth': 5, 'min_child_weight': 7},\n",
       "  mean: 0.99585, std: 0.00830, params: {'max_depth': 7, 'min_child_weight': 1},\n",
       "  mean: 0.99578, std: 0.00845, params: {'max_depth': 7, 'min_child_weight': 3},\n",
       "  mean: 0.99581, std: 0.00837, params: {'max_depth': 7, 'min_child_weight': 5},\n",
       "  mean: 0.99589, std: 0.00821, params: {'max_depth': 7, 'min_child_weight': 7},\n",
       "  mean: 0.99605, std: 0.00790, params: {'max_depth': 9, 'min_child_weight': 1},\n",
       "  mean: 0.99605, std: 0.00790, params: {'max_depth': 9, 'min_child_weight': 3},\n",
       "  mean: 0.99607, std: 0.00787, params: {'max_depth': 9, 'min_child_weight': 5},\n",
       "  mean: 0.99605, std: 0.00790, params: {'max_depth': 9, 'min_child_weight': 7},\n",
       "  mean: 0.99622, std: 0.00755, params: {'max_depth': 11, 'min_child_weight': 1},\n",
       "  mean: 0.99618, std: 0.00765, params: {'max_depth': 11, 'min_child_weight': 3},\n",
       "  mean: 0.99607, std: 0.00787, params: {'max_depth': 11, 'min_child_weight': 5},\n",
       "  mean: 0.99610, std: 0.00780, params: {'max_depth': 11, 'min_child_weight': 7}],\n",
       " {'max_depth': 11, 'min_child_weight': 1},\n",
       " 0.99622284751884416)"
      ]
     },
     "execution_count": 18,
     "metadata": {},
     "output_type": "execute_result"
    }
   ],
   "source": [
    "param_test1 = {\n",
    " 'max_depth':range(5,12,2),\n",
    " 'min_child_weight':range(1,8,2)\n",
    "}\n",
    "\n",
    "gsearch1 = GridSearchCV(estimator = XGBClassifier( learning_rate =0.1, n_estimators=310, max_depth=5,\n",
    " min_child_weight=1, gamma=0, subsample=0.8, colsample_bytree=0.8,\n",
    " objective= 'binary:logistic', nthread=4, scale_pos_weight=1, seed=27,silent=False), \n",
    " param_grid = param_test1, scoring='roc_auc',n_jobs=-1,iid=False, cv=5)\n",
    "gsearch1.fit(train[predictors],train[target])\n",
    "gsearch1.grid_scores_, gsearch1.best_params_, gsearch1.best_score_"
   ]
  },
  {
   "cell_type": "code",
   "execution_count": 62,
   "metadata": {},
   "outputs": [
    {
     "name": "stderr",
     "output_type": "stream",
     "text": [
      "Exception ignored in: <bound method DMatrix.__del__ of <xgboost.core.DMatrix object at 0x000002889216EA90>>\n",
      "Traceback (most recent call last):\n",
      "  File \"C:\\ProgramData\\Anaconda3\\lib\\site-packages\\xgboost-0.6-py3.6.egg\\xgboost\\core.py\", line 366, in __del__\n",
      "    _check_call(_LIB.XGDMatrixFree(self.handle))\n",
      "AttributeError: 'DMatrix' object has no attribute 'handle'\n",
      "C:\\ProgramData\\Anaconda3\\lib\\site-packages\\sklearn\\model_selection\\_search.py:747: DeprecationWarning: The grid_scores_ attribute was deprecated in version 0.18 in favor of the more elaborate cv_results_ attribute. The grid_scores_ attribute will not be available from 0.20\n",
      "  DeprecationWarning)\n"
     ]
    },
    {
     "data": {
      "text/plain": [
       "([mean: 0.99622, std: 0.00755, params: {'gamma': 0.0},\n",
       "  mean: 0.99622, std: 0.00755, params: {'gamma': 0.1},\n",
       "  mean: 0.99624, std: 0.00752, params: {'gamma': 0.2},\n",
       "  mean: 0.99625, std: 0.00750, params: {'gamma': 0.3},\n",
       "  mean: 0.99614, std: 0.00771, params: {'gamma': 0.4}],\n",
       " {'gamma': 0.3},\n",
       " 0.99624993417887064)"
      ]
     },
     "execution_count": 62,
     "metadata": {},
     "output_type": "execute_result"
    }
   ],
   "source": [
    "param_test3 = {\n",
    " 'gamma':[i/10.0 for i in range(0,5)]\n",
    "}\n",
    "gsearch3 = GridSearchCV(estimator = XGBClassifier( learning_rate =0.1, n_estimators=310, max_depth=11,\n",
    " min_child_weight=1, gamma=0, subsample=0.8, colsample_bytree=0.8,\n",
    " objective= 'binary:logistic', nthread=4, scale_pos_weight=1, seed=27,silent=False), \n",
    " param_grid = param_test3, scoring='roc_auc',n_jobs=4,iid=False, cv=5)\n",
    "gsearch3.fit(train[predictors],train[target])\n",
    "gsearch3.grid_scores_, gsearch3.best_params_, gsearch3.best_score_"
   ]
  },
  {
   "cell_type": "code",
   "execution_count": 63,
   "metadata": {},
   "outputs": [
    {
     "name": "stderr",
     "output_type": "stream",
     "text": [
      "C:\\ProgramData\\Anaconda3\\lib\\site-packages\\sklearn\\model_selection\\_search.py:747: DeprecationWarning: The grid_scores_ attribute was deprecated in version 0.18 in favor of the more elaborate cv_results_ attribute. The grid_scores_ attribute will not be available from 0.20\n",
      "  DeprecationWarning)\n"
     ]
    },
    {
     "data": {
      "text/plain": [
       "([mean: 0.99622, std: 0.00755, params: {'max_depth': 11, 'min_child_weight': 1},\n",
       "  mean: 0.99619, std: 0.00763, params: {'max_depth': 11, 'min_child_weight': 2},\n",
       "  mean: 0.99632, std: 0.00735, params: {'max_depth': 12, 'min_child_weight': 1},\n",
       "  mean: 0.99615, std: 0.00769, params: {'max_depth': 12, 'min_child_weight': 2},\n",
       "  mean: 0.99625, std: 0.00750, params: {'max_depth': 13, 'min_child_weight': 1},\n",
       "  mean: 0.99610, std: 0.00781, params: {'max_depth': 13, 'min_child_weight': 2}],\n",
       " {'max_depth': 12, 'min_child_weight': 1},\n",
       " 0.99632256112377715)"
      ]
     },
     "execution_count": 63,
     "metadata": {},
     "output_type": "execute_result"
    }
   ],
   "source": [
    "param_test2 = {\n",
    " 'max_depth':[11,12,13],\n",
    " 'min_child_weight':[1,2]\n",
    "}\n",
    "gsearch2 = GridSearchCV(estimator = XGBClassifier( learning_rate =0.1, n_estimators=310, max_depth=11,\n",
    " min_child_weight=1, gamma=0, subsample=0.8, colsample_bytree=0.8,\n",
    " objective= 'binary:logistic', nthread=4, scale_pos_weight=1, seed=27,silent=False), \n",
    " param_grid = param_test2, scoring='roc_auc',n_jobs=4,iid=False, cv=5)\n",
    "gsearch2.fit(train[predictors],train[target])\n",
    "gsearch2.grid_scores_, gsearch2.best_params_, gsearch2.best_score_"
   ]
  },
  {
   "cell_type": "code",
   "execution_count": 59,
   "metadata": {
    "collapsed": true
   },
   "outputs": [],
   "source": [
    "pred=gsearch1.predict(X_val)"
   ]
  },
  {
   "cell_type": "code",
   "execution_count": 66,
   "metadata": {},
   "outputs": [
    {
     "data": {
      "text/plain": [
       "array([ 0.,  0.,  0., ...,  0.,  0.,  0.], dtype=float32)"
      ]
     },
     "execution_count": 66,
     "metadata": {},
     "output_type": "execute_result"
    }
   ],
   "source": [
    "pred"
   ]
  },
  {
   "cell_type": "code",
   "execution_count": 18,
   "metadata": {},
   "outputs": [
    {
     "name": "stdout",
     "output_type": "stream",
     "text": [
      "\n",
      "Model Report\n",
      "Accuracy : 1\n",
      "AUC Score (Train): 1.000000\n",
      "F1 Score : 1\n"
     ]
    }
   ],
   "source": [
    "xgb2 = XGBClassifier(\n",
    " learning_rate =0.1,\n",
    " n_estimators=500,\n",
    " max_depth=12,\n",
    " min_child_weight=1,\n",
    " gamma=0.3,\n",
    " subsample=0.8,\n",
    " colsample_bytree=0.8,\n",
    " objective= 'binary:logistic',\n",
    " nthread=4,\n",
    " scale_pos_weight=1,\n",
    " seed=27,\n",
    " silent=False)\n",
    "modelfit(xgb2, train, predictors)"
   ]
  },
  {
   "cell_type": "code",
   "execution_count": 19,
   "metadata": {},
   "outputs": [
    {
     "data": {
      "text/plain": [
       "399"
      ]
     },
     "execution_count": 19,
     "metadata": {},
     "output_type": "execute_result"
    }
   ],
   "source": [
    "xgb2.n_estimators"
   ]
  },
  {
   "cell_type": "code",
   "execution_count": 17,
   "metadata": {},
   "outputs": [
    {
     "name": "stderr",
     "output_type": "stream",
     "text": [
      "C:\\ProgramData\\Anaconda3\\lib\\site-packages\\sklearn\\model_selection\\_search.py:747: DeprecationWarning: The grid_scores_ attribute was deprecated in version 0.18 in favor of the more elaborate cv_results_ attribute. The grid_scores_ attribute will not be available from 0.20\n",
      "  DeprecationWarning)\n"
     ]
    },
    {
     "data": {
      "text/plain": [
       "([mean: 0.99984, std: 0.00010, params: {'colsample_bytree': 0.6, 'subsample': 0.6},\n",
       "  mean: 0.99987, std: 0.00008, params: {'colsample_bytree': 0.6, 'subsample': 0.7},\n",
       "  mean: 0.99988, std: 0.00009, params: {'colsample_bytree': 0.6, 'subsample': 0.8},\n",
       "  mean: 0.99990, std: 0.00006, params: {'colsample_bytree': 0.6, 'subsample': 0.9},\n",
       "  mean: 0.99980, std: 0.00014, params: {'colsample_bytree': 0.7, 'subsample': 0.6},\n",
       "  mean: 0.99988, std: 0.00008, params: {'colsample_bytree': 0.7, 'subsample': 0.7},\n",
       "  mean: 0.99989, std: 0.00009, params: {'colsample_bytree': 0.7, 'subsample': 0.8},\n",
       "  mean: 0.99985, std: 0.00011, params: {'colsample_bytree': 0.7, 'subsample': 0.9},\n",
       "  mean: 0.99988, std: 0.00008, params: {'colsample_bytree': 0.8, 'subsample': 0.6},\n",
       "  mean: 0.99985, std: 0.00012, params: {'colsample_bytree': 0.8, 'subsample': 0.7},\n",
       "  mean: 0.99983, std: 0.00013, params: {'colsample_bytree': 0.8, 'subsample': 0.8},\n",
       "  mean: 0.99987, std: 0.00012, params: {'colsample_bytree': 0.8, 'subsample': 0.9},\n",
       "  mean: 0.99983, std: 0.00016, params: {'colsample_bytree': 0.9, 'subsample': 0.6},\n",
       "  mean: 0.99985, std: 0.00010, params: {'colsample_bytree': 0.9, 'subsample': 0.7},\n",
       "  mean: 0.99987, std: 0.00011, params: {'colsample_bytree': 0.9, 'subsample': 0.8},\n",
       "  mean: 0.99986, std: 0.00012, params: {'colsample_bytree': 0.9, 'subsample': 0.9}],\n",
       " {'colsample_bytree': 0.6, 'subsample': 0.9},\n",
       " 0.99990067349645739)"
      ]
     },
     "execution_count": 17,
     "metadata": {},
     "output_type": "execute_result"
    }
   ],
   "source": [
    "param_test4 = {\n",
    " 'subsample':[i/10.0 for i in range(6,10)],\n",
    " 'colsample_bytree':[i/10.0 for i in range(6,10)]\n",
    "}\n",
    "gsearch4 = GridSearchCV(estimator = XGBClassifier( learning_rate =0.1, n_estimators=399, max_depth=12,\n",
    " min_child_weight=1, gamma=0.3, subsample=0.8, colsample_bytree=0.8,\n",
    " objective= 'binary:logistic', nthread=4, scale_pos_weight=1, seed=27,silent=False), \n",
    " param_grid = param_test4, scoring='roc_auc',n_jobs=4,iid=False, cv=5)\n",
    "gsearch4.fit(train[predictors],train[target])\n",
    "gsearch4.grid_scores_, gsearch4.best_params_, gsearch4.best_score_"
   ]
  },
  {
   "cell_type": "code",
   "execution_count": 18,
   "metadata": {},
   "outputs": [
    {
     "name": "stderr",
     "output_type": "stream",
     "text": [
      "C:\\ProgramData\\Anaconda3\\lib\\site-packages\\sklearn\\model_selection\\_search.py:747: DeprecationWarning: The grid_scores_ attribute was deprecated in version 0.18 in favor of the more elaborate cv_results_ attribute. The grid_scores_ attribute will not be available from 0.20\n",
      "  DeprecationWarning)\n"
     ]
    },
    {
     "data": {
      "text/plain": [
       "([mean: 0.99989, std: 0.00007, params: {'colsample_bytree': 0.5, 'subsample': 0.85},\n",
       "  mean: 0.99991, std: 0.00006, params: {'colsample_bytree': 0.5, 'subsample': 0.9},\n",
       "  mean: 0.99987, std: 0.00011, params: {'colsample_bytree': 0.5, 'subsample': 0.95},\n",
       "  mean: 0.99991, std: 0.00007, params: {'colsample_bytree': 0.5, 'subsample': 1.0},\n",
       "  mean: 0.99986, std: 0.00011, params: {'colsample_bytree': 0.55, 'subsample': 0.85},\n",
       "  mean: 0.99988, std: 0.00007, params: {'colsample_bytree': 0.55, 'subsample': 0.9},\n",
       "  mean: 0.99994, std: 0.00005, params: {'colsample_bytree': 0.55, 'subsample': 0.95},\n",
       "  mean: 0.99988, std: 0.00009, params: {'colsample_bytree': 0.55, 'subsample': 1.0},\n",
       "  mean: 0.99987, std: 0.00010, params: {'colsample_bytree': 0.6, 'subsample': 0.85},\n",
       "  mean: 0.99990, std: 0.00006, params: {'colsample_bytree': 0.6, 'subsample': 0.9},\n",
       "  mean: 0.99990, std: 0.00008, params: {'colsample_bytree': 0.6, 'subsample': 0.95},\n",
       "  mean: 0.99988, std: 0.00008, params: {'colsample_bytree': 0.6, 'subsample': 1.0},\n",
       "  mean: 0.99986, std: 0.00010, params: {'colsample_bytree': 0.65, 'subsample': 0.85},\n",
       "  mean: 0.99988, std: 0.00008, params: {'colsample_bytree': 0.65, 'subsample': 0.9},\n",
       "  mean: 0.99987, std: 0.00007, params: {'colsample_bytree': 0.65, 'subsample': 0.95},\n",
       "  mean: 0.99990, std: 0.00010, params: {'colsample_bytree': 0.65, 'subsample': 1.0}],\n",
       " {'colsample_bytree': 0.55, 'subsample': 0.95},\n",
       " 0.99993571147384941)"
      ]
     },
     "execution_count": 18,
     "metadata": {},
     "output_type": "execute_result"
    }
   ],
   "source": [
    "param_test5 = {\n",
    " 'subsample':[i/100.0 for i in range(85,105,5)],\n",
    " 'colsample_bytree':[i/100.0 for i in range(50,70,5)]\n",
    "}\n",
    "gsearch5 = GridSearchCV(estimator = XGBClassifier( learning_rate =0.1, n_estimators=399, max_depth=12,\n",
    " min_child_weight=1, gamma=0.3, subsample=0.9, colsample_bytree=0.6,\n",
    " objective= 'binary:logistic', nthread=4, scale_pos_weight=1, seed=27,silent=False), \n",
    " param_grid = param_test5, scoring='roc_auc',n_jobs=4,iid=False, cv=5)\n",
    "gsearch5.fit(train[predictors],train[target])\n",
    "gsearch5.grid_scores_, gsearch5.best_params_, gsearch5.best_score_"
   ]
  },
  {
   "cell_type": "code",
   "execution_count": 19,
   "metadata": {},
   "outputs": [
    {
     "name": "stderr",
     "output_type": "stream",
     "text": [
      "C:\\ProgramData\\Anaconda3\\lib\\site-packages\\sklearn\\model_selection\\_search.py:747: DeprecationWarning: The grid_scores_ attribute was deprecated in version 0.18 in favor of the more elaborate cv_results_ attribute. The grid_scores_ attribute will not be available from 0.20\n",
      "  DeprecationWarning)\n"
     ]
    },
    {
     "data": {
      "text/plain": [
       "([mean: 0.99993, std: 0.00005, params: {'reg_alpha': 1e-05},\n",
       "  mean: 0.99990, std: 0.00008, params: {'reg_alpha': 0.01},\n",
       "  mean: 0.99988, std: 0.00007, params: {'reg_alpha': 0.1},\n",
       "  mean: 0.99986, std: 0.00010, params: {'reg_alpha': 1},\n",
       "  mean: 0.98438, std: 0.00068, params: {'reg_alpha': 100}],\n",
       " {'reg_alpha': 1e-05},\n",
       " 0.99993252756758721)"
      ]
     },
     "execution_count": 19,
     "metadata": {},
     "output_type": "execute_result"
    }
   ],
   "source": [
    "param_test6 = {\n",
    " 'reg_alpha':[1e-5, 1e-2, 0.1, 1, 100]\n",
    "}\n",
    "gsearch6 = GridSearchCV(estimator = XGBClassifier( learning_rate =0.1, n_estimators=399, max_depth=12,\n",
    " min_child_weight=1, gamma=0.3, subsample=0.95, colsample_bytree=0.55,\n",
    " objective= 'binary:logistic', nthread=4, scale_pos_weight=1, seed=27,silent=False), \n",
    " param_grid = param_test6, scoring='roc_auc',n_jobs=4,iid=False, cv=5)\n",
    "gsearch6.fit(train[predictors],train[target])\n",
    "gsearch6.grid_scores_, gsearch6.best_params_, gsearch6.best_score_"
   ]
  },
  {
   "cell_type": "code",
   "execution_count": 15,
   "metadata": {},
   "outputs": [
    {
     "name": "stderr",
     "output_type": "stream",
     "text": [
      "C:\\ProgramData\\Anaconda3\\lib\\site-packages\\sklearn\\model_selection\\_search.py:747: DeprecationWarning: The grid_scores_ attribute was deprecated in version 0.18 in favor of the more elaborate cv_results_ attribute. The grid_scores_ attribute will not be available from 0.20\n",
      "  DeprecationWarning)\n"
     ]
    },
    {
     "data": {
      "text/plain": [
       "([mean: 0.92759, std: 0.00488, params: {'reg_alpha': 1e-06},\n",
       "  mean: 0.92776, std: 0.00456, params: {'reg_alpha': 4.9999999999999996e-06},\n",
       "  mean: 0.92802, std: 0.00446, params: {'reg_alpha': 1e-05},\n",
       "  mean: 0.92812, std: 0.00479, params: {'reg_alpha': 5e-05},\n",
       "  mean: 0.92806, std: 0.00450, params: {'reg_alpha': 0.0001}],\n",
       " {'reg_alpha': 5e-05},\n",
       " 0.92811878726075814)"
      ]
     },
     "execution_count": 15,
     "metadata": {},
     "output_type": "execute_result"
    }
   ],
   "source": [
    "param_test7 = {\n",
    " 'reg_alpha':[1e-6,5*(1e-6),1e-5,5*(1e-5),1e-4]\n",
    "}\n",
    "gsearch7 = GridSearchCV(estimator = XGBClassifier( learning_rate =0.1, n_estimators=399, max_depth=12,\n",
    " min_child_weight=1, gamma=0.3, subsample=0.95, colsample_bytree=0.55,\n",
    " objective= 'binary:logistic', nthread=4, scale_pos_weight=1, seed=27,silent=False), \n",
    " param_grid = param_test7, scoring='roc_auc',n_jobs=4,iid=False, cv=5)\n",
    "gsearch7.fit(train[predictors],train[target])\n",
    "gsearch7.grid_scores_, gsearch7.best_params_, gsearch7.best_score_"
   ]
  },
  {
   "cell_type": "code",
   "execution_count": 112,
   "metadata": {
    "collapsed": true
   },
   "outputs": [],
   "source": [
    "\n",
    "fullset = pd.concat([train, test], axis = 0, ignore_index=True)\n",
    "fullset.columns = np.concatenate((X_train.columns.values,[\"TARGET\"]))"
   ]
  },
  {
   "cell_type": "code",
   "execution_count": 113,
   "metadata": {
    "collapsed": true
   },
   "outputs": [],
   "source": [
    "fullX = fullset.drop(\"TARGET\",axis=1)\n",
    "fullY = fullset[\"TARGET\"]\n",
    "dfull = xgb.DMatrix(fullX, label=fullY)"
   ]
  },
  {
   "cell_type": "code",
   "execution_count": 114,
   "metadata": {},
   "outputs": [
    {
     "data": {
      "text/html": [
       "<div>\n",
       "<style>\n",
       "    .dataframe thead tr:only-child th {\n",
       "        text-align: right;\n",
       "    }\n",
       "\n",
       "    .dataframe thead th {\n",
       "        text-align: left;\n",
       "    }\n",
       "\n",
       "    .dataframe tbody tr th {\n",
       "        vertical-align: top;\n",
       "    }\n",
       "</style>\n",
       "<table border=\"1\" class=\"dataframe\">\n",
       "  <thead>\n",
       "    <tr style=\"text-align: right;\">\n",
       "      <th></th>\n",
       "      <th>BNK_LNIF_CNT</th>\n",
       "      <th>CPT_LNIF_CNT</th>\n",
       "      <th>SPART_LNIF_CNT</th>\n",
       "      <th>ECT_LNIF_CNT</th>\n",
       "      <th>TOT_LNIF_AMT</th>\n",
       "      <th>TOT_CLIF_AMT</th>\n",
       "      <th>BNK_LNIF_AMT</th>\n",
       "      <th>CPT_LNIF_AMT</th>\n",
       "      <th>CRDT_OCCR_MDIF</th>\n",
       "      <th>SPTCT_OCCR_MDIF</th>\n",
       "      <th>...</th>\n",
       "      <th>61</th>\n",
       "      <th>62</th>\n",
       "      <th>63</th>\n",
       "      <th>64</th>\n",
       "      <th>65</th>\n",
       "      <th>66</th>\n",
       "      <th>67</th>\n",
       "      <th>68</th>\n",
       "      <th>69</th>\n",
       "      <th>TARGET</th>\n",
       "    </tr>\n",
       "  </thead>\n",
       "  <tbody>\n",
       "    <tr>\n",
       "      <th>0</th>\n",
       "      <td>2.8</td>\n",
       "      <td>1.0</td>\n",
       "      <td>1.000000</td>\n",
       "      <td>1.0</td>\n",
       "      <td>1.081489</td>\n",
       "      <td>1.000000</td>\n",
       "      <td>1.085815</td>\n",
       "      <td>1.000000</td>\n",
       "      <td>1.00000</td>\n",
       "      <td>1.0</td>\n",
       "      <td>...</td>\n",
       "      <td>0.0</td>\n",
       "      <td>0.0</td>\n",
       "      <td>0.0</td>\n",
       "      <td>1.0</td>\n",
       "      <td>0.0</td>\n",
       "      <td>0.0</td>\n",
       "      <td>0.0</td>\n",
       "      <td>1.0</td>\n",
       "      <td>0.0</td>\n",
       "      <td>0</td>\n",
       "    </tr>\n",
       "    <tr>\n",
       "      <th>1</th>\n",
       "      <td>2.8</td>\n",
       "      <td>1.0</td>\n",
       "      <td>1.000000</td>\n",
       "      <td>1.0</td>\n",
       "      <td>1.814889</td>\n",
       "      <td>1.000000</td>\n",
       "      <td>1.858059</td>\n",
       "      <td>1.000000</td>\n",
       "      <td>1.00000</td>\n",
       "      <td>1.0</td>\n",
       "      <td>...</td>\n",
       "      <td>0.0</td>\n",
       "      <td>0.0</td>\n",
       "      <td>0.0</td>\n",
       "      <td>0.0</td>\n",
       "      <td>0.0</td>\n",
       "      <td>0.0</td>\n",
       "      <td>0.0</td>\n",
       "      <td>1.0</td>\n",
       "      <td>0.0</td>\n",
       "      <td>1</td>\n",
       "    </tr>\n",
       "    <tr>\n",
       "      <th>2</th>\n",
       "      <td>2.8</td>\n",
       "      <td>6.4</td>\n",
       "      <td>4.857143</td>\n",
       "      <td>1.0</td>\n",
       "      <td>1.407445</td>\n",
       "      <td>1.000000</td>\n",
       "      <td>1.314628</td>\n",
       "      <td>1.358833</td>\n",
       "      <td>1.00000</td>\n",
       "      <td>1.0</td>\n",
       "      <td>...</td>\n",
       "      <td>0.0</td>\n",
       "      <td>0.0</td>\n",
       "      <td>0.0</td>\n",
       "      <td>0.0</td>\n",
       "      <td>0.0</td>\n",
       "      <td>0.0</td>\n",
       "      <td>1.0</td>\n",
       "      <td>0.0</td>\n",
       "      <td>0.0</td>\n",
       "      <td>0</td>\n",
       "    </tr>\n",
       "    <tr>\n",
       "      <th>3</th>\n",
       "      <td>2.8</td>\n",
       "      <td>2.8</td>\n",
       "      <td>2.285714</td>\n",
       "      <td>1.0</td>\n",
       "      <td>1.814889</td>\n",
       "      <td>1.787735</td>\n",
       "      <td>1.829458</td>\n",
       "      <td>1.000030</td>\n",
       "      <td>1.07438</td>\n",
       "      <td>1.0</td>\n",
       "      <td>...</td>\n",
       "      <td>0.0</td>\n",
       "      <td>0.0</td>\n",
       "      <td>0.0</td>\n",
       "      <td>1.0</td>\n",
       "      <td>0.0</td>\n",
       "      <td>0.0</td>\n",
       "      <td>0.0</td>\n",
       "      <td>1.0</td>\n",
       "      <td>0.0</td>\n",
       "      <td>0</td>\n",
       "    </tr>\n",
       "    <tr>\n",
       "      <th>4</th>\n",
       "      <td>2.8</td>\n",
       "      <td>1.0</td>\n",
       "      <td>1.000000</td>\n",
       "      <td>1.0</td>\n",
       "      <td>1.353119</td>\n",
       "      <td>1.000000</td>\n",
       "      <td>1.371831</td>\n",
       "      <td>1.000000</td>\n",
       "      <td>1.00000</td>\n",
       "      <td>1.0</td>\n",
       "      <td>...</td>\n",
       "      <td>0.0</td>\n",
       "      <td>1.0</td>\n",
       "      <td>0.0</td>\n",
       "      <td>0.0</td>\n",
       "      <td>0.0</td>\n",
       "      <td>0.0</td>\n",
       "      <td>0.0</td>\n",
       "      <td>1.0</td>\n",
       "      <td>0.0</td>\n",
       "      <td>0</td>\n",
       "    </tr>\n",
       "  </tbody>\n",
       "</table>\n",
       "<p>5 rows × 279 columns</p>\n",
       "</div>"
      ],
      "text/plain": [
       "   BNK_LNIF_CNT  CPT_LNIF_CNT  SPART_LNIF_CNT  ECT_LNIF_CNT  TOT_LNIF_AMT  \\\n",
       "0           2.8           1.0        1.000000           1.0      1.081489   \n",
       "1           2.8           1.0        1.000000           1.0      1.814889   \n",
       "2           2.8           6.4        4.857143           1.0      1.407445   \n",
       "3           2.8           2.8        2.285714           1.0      1.814889   \n",
       "4           2.8           1.0        1.000000           1.0      1.353119   \n",
       "\n",
       "   TOT_CLIF_AMT  BNK_LNIF_AMT  CPT_LNIF_AMT  CRDT_OCCR_MDIF  SPTCT_OCCR_MDIF  \\\n",
       "0      1.000000      1.085815      1.000000         1.00000              1.0   \n",
       "1      1.000000      1.858059      1.000000         1.00000              1.0   \n",
       "2      1.000000      1.314628      1.358833         1.00000              1.0   \n",
       "3      1.787735      1.829458      1.000030         1.07438              1.0   \n",
       "4      1.000000      1.371831      1.000000         1.00000              1.0   \n",
       "\n",
       "    ...     61   62   63   64   65   66   67   68   69  TARGET  \n",
       "0   ...    0.0  0.0  0.0  1.0  0.0  0.0  0.0  1.0  0.0       0  \n",
       "1   ...    0.0  0.0  0.0  0.0  0.0  0.0  0.0  1.0  0.0       1  \n",
       "2   ...    0.0  0.0  0.0  0.0  0.0  0.0  1.0  0.0  0.0       0  \n",
       "3   ...    0.0  0.0  0.0  1.0  0.0  0.0  0.0  1.0  0.0       0  \n",
       "4   ...    0.0  1.0  0.0  0.0  0.0  0.0  0.0  1.0  0.0       0  \n",
       "\n",
       "[5 rows x 279 columns]"
      ]
     },
     "execution_count": 114,
     "metadata": {},
     "output_type": "execute_result"
    }
   ],
   "source": [
    "fullset.head()"
   ]
  },
  {
   "cell_type": "code",
   "execution_count": 14,
   "metadata": {
    "collapsed": true,
    "scrolled": true
   },
   "outputs": [],
   "source": [
    "xgb_param = {\n",
    "         'max_depth':12, \n",
    "         'eta':0.1,  \n",
    "         'silent':False,\n",
    "         'objective':'binary:logistic',\n",
    "    'gamma' : 0.3,\n",
    "    'min_child_weight' : 1,\n",
    "    'max_delta_step' : 0,\n",
    "    'subsample' : 0.8,\n",
    "    'colsample_bytree' : 0.8,\n",
    "    'base_score' : 0.5,\n",
    "    'nthread' : 2\n",
    "         }\n",
    "\n",
    "plst = xgb_param.items()\n",
    "\n",
    "evallist  = [(dtrain,'train')]\n",
    "\n",
    "num_round = 300  # 반복횟수\n",
    "#bst = xgb.train(xgb_param,dtrain, num_round,\n",
    "#                  feval=xgb_f1,maximize=True,verbose_eval=True)\n",
    "\n",
    "bst = xgb.train(xgb_param,dtrain, num_round,\n",
    "                  verbose_eval=True)"
   ]
  },
  {
   "cell_type": "code",
   "execution_count": 15,
   "metadata": {
    "scrolled": true
   },
   "outputs": [
    {
     "name": "stdout",
     "output_type": "stream",
     "text": [
      "Threshold가 0.0일때 F1_score는 0.08171988134349781\n",
      "Threshold가 0.01일때 F1_score는 0.3631225715294949\n",
      "Threshold가 0.02일때 F1_score는 0.41806393919069973\n",
      "Threshold가 0.03일때 F1_score는 0.4398782343987823\n",
      "Threshold가 0.04일때 F1_score는 0.4548217739707101\n",
      "Threshold가 0.05일때 F1_score는 0.46975088967971534\n",
      "Threshold가 0.06일때 F1_score는 0.4805477746654218\n",
      "Threshold가 0.07일때 F1_score는 0.48456992777413005\n",
      "Threshold가 0.08일때 F1_score는 0.4911323328785811\n",
      "Threshold가 0.09일때 F1_score는 0.4873710423336891\n",
      "Threshold가 0.1일때 F1_score는 0.4856933235509905\n",
      "Threshold가 0.11일때 F1_score는 0.48464163822525597\n",
      "Threshold가 0.12일때 F1_score는 0.4851063829787234\n",
      "Threshold가 0.13일때 F1_score는 0.4779674473997619\n",
      "Threshold가 0.14일때 F1_score는 0.472771278741428\n",
      "Threshold가 0.15일때 F1_score는 0.4691865242399343\n",
      "Threshold가 0.16일때 F1_score는 0.47147022074135775\n",
      "Threshold가 0.17일때 F1_score는 0.4697357203751065\n",
      "Threshold가 0.18일때 F1_score는 0.4663482414242293\n",
      "Threshold가 0.19일때 F1_score는 0.4634361233480176\n",
      "Threshold가 0.2일때 F1_score는 0.45851917930419267\n",
      "Threshold가 0.21일때 F1_score는 0.45825771324863884\n",
      "Threshold가 0.22일때 F1_score는 0.4504587155963303\n",
      "Threshold가 0.23일때 F1_score는 0.4438228438228438\n",
      "Threshold가 0.24일때 F1_score는 0.4419263456090652\n",
      "Threshold가 0.25일때 F1_score는 0.4375595805529075\n",
      "Threshold가 0.26일때 F1_score는 0.4346987951807229\n",
      "Threshold가 0.27일때 F1_score는 0.42752562225475843\n",
      "Threshold가 0.28일때 F1_score는 0.42307692307692313\n",
      "Threshold가 0.29일때 F1_score는 0.42220019821605553\n",
      "Threshold가 0.3일때 F1_score는 0.4175824175824176\n",
      "Threshold가 0.31일때 F1_score는 0.4110831234256927\n",
      "Threshold가 0.32일때 F1_score는 0.40691759918616477\n",
      "Threshold가 0.33일때 F1_score는 0.4047131147540984\n",
      "Threshold가 0.34일때 F1_score는 0.4018643190056965\n",
      "Threshold가 0.35일때 F1_score는 0.3972817564035546\n",
      "Threshold가 0.36일때 F1_score는 0.39451476793248946\n",
      "Threshold가 0.37일때 F1_score는 0.3914893617021276\n",
      "Threshold가 0.38일때 F1_score는 0.38647342995169076\n",
      "Threshold가 0.39일때 F1_score는 0.38028169014084506\n",
      "Threshold가 0.4일때 F1_score는 0.37731733914940024\n",
      "Threshold가 0.41일때 F1_score는 0.37458926615553123\n",
      "Threshold가 0.42일때 F1_score는 0.36943375481033536\n",
      "Threshold가 0.43일때 F1_score는 0.3672566371681416\n",
      "Threshold가 0.44일때 F1_score는 0.3645484949832776\n",
      "Threshold가 0.45일때 F1_score는 0.3576233183856502\n",
      "Threshold가 0.46일때 F1_score는 0.3530738860688099\n",
      "Threshold가 0.47일때 F1_score는 0.3479249573621376\n",
      "Threshold가 0.48일때 F1_score는 0.3405714285714286\n",
      "Threshold가 0.49일때 F1_score는 0.3388856978747846\n",
      "Threshold가 0.5일때 F1_score는 0.3290845886442642\n",
      "Threshold가 0.51일때 F1_score는 0.3282887077997672\n",
      "Threshold가 0.52일때 F1_score는 0.3215962441314554\n",
      "Threshold가 0.53일때 F1_score는 0.32075471698113206\n",
      "Threshold가 0.54일때 F1_score는 0.32208407341622264\n",
      "Threshold가 0.55일때 F1_score는 0.31804645622394284\n",
      "Threshold가 0.56일때 F1_score는 0.31541218637992835\n",
      "Threshold가 0.57일때 F1_score는 0.3123123123123123\n",
      "Threshold가 0.58일때 F1_score는 0.3101991550995775\n",
      "Threshold가 0.59일때 F1_score는 0.30927835051546393\n",
      "Threshold가 0.6일때 F1_score는 0.30506406345332515\n",
      "Threshold가 0.61일때 F1_score는 0.3020257826887661\n",
      "Threshold가 0.62일때 F1_score는 0.2940086473131563\n",
      "Threshold가 0.63일때 F1_score는 0.28677839851024206\n",
      "Threshold가 0.64일때 F1_score는 0.28142589118198874\n",
      "Threshold가 0.65일때 F1_score는 0.2738170347003155\n",
      "Threshold가 0.66일때 F1_score는 0.27071473750790637\n",
      "Threshold가 0.67일때 F1_score는 0.2679365079365079\n",
      "Threshold가 0.68일때 F1_score는 0.26436781609195403\n",
      "Threshold가 0.69일때 F1_score는 0.25706940874035994\n",
      "Threshold가 0.7일때 F1_score는 0.25048418334409295\n",
      "Threshold가 0.71일때 F1_score는 0.24627349319507455\n",
      "Threshold가 0.72일때 F1_score는 0.2464332036316472\n",
      "Threshold가 0.73일때 F1_score는 0.2406801831262263\n",
      "Threshold가 0.74일때 F1_score는 0.23421052631578945\n",
      "Threshold가 0.75일때 F1_score는 0.22751322751322753\n",
      "Threshold가 0.76일때 F1_score는 0.22591362126245848\n",
      "Threshold가 0.77일때 F1_score는 0.21657754010695188\n",
      "Threshold가 0.78일때 F1_score는 0.21490933512424445\n",
      "Threshold가 0.79일때 F1_score는 0.2078272604588394\n",
      "Threshold가 0.8일때 F1_score는 0.2029769959404601\n",
      "Threshold가 0.81일때 F1_score는 0.1938566552901024\n",
      "Threshold가 0.82일때 F1_score는 0.1884456671251719\n",
      "Threshold가 0.83일때 F1_score는 0.18244644091223222\n",
      "Threshold가 0.84일때 F1_score는 0.1713091922005571\n",
      "Threshold가 0.85일때 F1_score는 0.1689944134078212\n",
      "Threshold가 0.86일때 F1_score는 0.16269284712482468\n",
      "Threshold가 0.87일때 F1_score는 0.15014164305949007\n",
      "Threshold가 0.88일때 F1_score는 0.13960113960113962\n",
      "Threshold가 0.89일때 F1_score는 0.1318051575931232\n",
      "Threshold가 0.9일때 F1_score는 0.12274368231046932\n",
      "Threshold가 0.91일때 F1_score는 0.12028985507246379\n",
      "Threshold가 0.92일때 F1_score는 0.10940919037199126\n",
      "Threshold가 0.93일때 F1_score는 0.09579955784819456\n",
      "Threshold가 0.94일때 F1_score는 0.08314773570898291\n",
      "Threshold가 0.95일때 F1_score는 0.07035928143712575\n",
      "Threshold가 0.96일때 F1_score는 0.05147615442846329\n",
      "Threshold가 0.97일때 F1_score는 0.036613272311212815\n",
      "Threshold가 0.98일때 F1_score는 0.01393188854489164\n",
      "Threshold가 0.99일때 F1_score는 0.00777000777000777\n"
     ]
    }
   ],
   "source": [
    "for th in range(0,100):\n",
    "    pred = bst.predict(dtest)\n",
    "    for i in range(0,30070):\n",
    "        if pred[i]>(th/100):\n",
    "            pred[i]=1\n",
    "        else:\n",
    "            pred[i]=0\n",
    "    fs = f1_score(pred,Y_val)\n",
    "    print(\"Threshold가 {a}일때 F1_score는 {b}\".format(a=th/100, b=fs))"
   ]
  },
  {
   "cell_type": "code",
   "execution_count": 45,
   "metadata": {},
   "outputs": [
    {
     "name": "stderr",
     "output_type": "stream",
     "text": [
      "Exception ignored in: <bound method DMatrix.__del__ of <xgboost.core.DMatrix object at 0x000001D614DE7CF8>>\n",
      "Traceback (most recent call last):\n",
      "  File \"C:\\ProgramData\\Anaconda3\\lib\\site-packages\\xgboost-0.6-py3.6.egg\\xgboost\\core.py\", line 360, in __del__\n",
      "    _check_call(_LIB.XGDMatrixFree(self.handle))\n",
      "AttributeError: 'DMatrix' object has no attribute 'handle'\n"
     ]
    }
   ],
   "source": [
    "def modelfit(alg, dtrain, predictors,useTrainCV=True, cv_folds=5, early_stopping_rounds=50):\n",
    "    \n",
    "    if useTrainCV:\n",
    "        xgb_param = alg.get_xgb_params()\n",
    "        xgtrain = xgb.DMatrix(dtrain[predictors].values, label=dtrain[target].values)\n",
    "        cvresult = xgb.cv(xgb_param, xgtrain, num_boost_round=alg.get_params()['n_estimators'], nfold=cv_folds,\n",
    "          metrics='auc', early_stopping_rounds=early_stopping_rounds)\n",
    "        alg.set_params(n_estimators=cvresult.shape[0])\n",
    "    \n",
    "    #Fit the algorithm on the data\n",
    "    alg.fit(dtrain[predictors], dtrain['TARGET'],eval_metric='auc')\n",
    "        \n",
    "    #Predict training set:\n",
    "    dtrain_predictions = alg.predict(dtrain[predictors])\n",
    "    dtrain_predprob = alg.predict_proba(dtrain[predictors])[:,1]\n",
    "        \n",
    "    #Print model report:\n",
    "    print (\"\\nModel Report\")\n",
    "    print (\"Accuracy : %.4g\" % metrics.accuracy_score(dtrain['TARGET'].values, dtrain_predictions))\n",
    "    print (\"AUC Score (Train): %f\" % metrics.roc_auc_score(dtrain['TARGET'], dtrain_predprob))\n",
    "    print (\"F1 Score : %.4g\" % metrics.f1_score(dtrain['TARGET'].values, dtrain_predictions))    "
   ]
  },
  {
   "cell_type": "code",
   "execution_count": null,
   "metadata": {
    "collapsed": true
   },
   "outputs": [],
   "source": [
    "xgb2 = XGBClassifier(\n",
    " learning_rate =0.1,\n",
    " n_estimators=500,\n",
    " max_depth=12,\n",
    " min_child_weight=1,\n",
    " gamma=0.3,\n",
    " subsample=0.8,\n",
    " colsample_bytree=0.8,\n",
    " objective= 'binary:logistic',\n",
    " nthread=2,\n",
    " scale_pos_weight=1,\n",
    " seed=27,\n",
    " silent=False)\n",
    "modelfit(xgb2, train, predictors)"
   ]
  },
  {
   "cell_type": "code",
   "execution_count": null,
   "metadata": {
    "collapsed": true
   },
   "outputs": [],
   "source": [
    "#파라메터 튜닝을 하던 이전 방식으로는 f1_score의 threshold가 0.5로 되어있음.\n",
    "xgb2.n_estimator"
   ]
  },
  {
   "cell_type": "code",
   "execution_count": 101,
   "metadata": {
    "collapsed": true
   },
   "outputs": [],
   "source": [
    "#샘플링 랜덤 오버 샘플링 vs SMOTE"
   ]
  },
  {
   "cell_type": "code",
   "execution_count": 21,
   "metadata": {
    "collapsed": true,
    "scrolled": false
   },
   "outputs": [],
   "source": [
    "xgb_param = {\n",
    "         'max_depth':12, \n",
    "         'eta':0.1,  \n",
    "         'silent':False,\n",
    "         'objective':'binary:logistic',\n",
    "    'gamma' : 0.3,\n",
    "    'min_child_weight' : 1,\n",
    "    'max_delta_step' : 0,\n",
    "    'subsample' : 0.8,\n",
    "    'colsample_bytree' : 0.8,\n",
    "    'base_score' : 0.5,\n",
    "    'nthread' : 2\n",
    "         }\n",
    "\n",
    "plst = xgb_param.items()\n",
    "\n",
    "evallist  = [(dtrain,'train')]\n",
    "\n",
    "num_round = 399  # 반복횟수\n",
    "bst = xgb.train(xgb_param,dtrain, num_round,\n",
    "                 feval=xgb_f1,maximize=True,verbose_eval=True)"
   ]
  },
  {
   "cell_type": "code",
   "execution_count": 14,
   "metadata": {
    "scrolled": true
   },
   "outputs": [
    {
     "name": "stdout",
     "output_type": "stream",
     "text": [
      "Threshold가 0.0일때 F1_score는 0.08135268782899983\n",
      "Threshold가 0.01일때 F1_score는 0.2964730840625828\n",
      "Threshold가 0.02일때 F1_score는 0.34394064303380056\n",
      "Threshold가 0.03일때 F1_score는 0.3723024957778195\n",
      "Threshold가 0.04일때 F1_score는 0.38691088701378884\n",
      "Threshold가 0.05일때 F1_score는 0.40396912899669235\n",
      "Threshold가 0.06일때 F1_score는 0.4150767798976268\n",
      "Threshold가 0.07일때 F1_score는 0.4265887509130752\n",
      "Threshold가 0.08일때 F1_score는 0.4357342835327055\n",
      "Threshold가 0.09일때 F1_score는 0.4409905163329821\n",
      "Threshold가 0.1일때 F1_score는 0.44589450788471996\n",
      "Threshold가 0.11일때 F1_score는 0.44438233650083847\n",
      "Threshold가 0.12일때 F1_score는 0.44763271162123386\n",
      "Threshold가 0.13일때 F1_score는 0.44961697112551563\n",
      "Threshold가 0.14일때 F1_score는 0.45716015743263694\n",
      "Threshold가 0.15일때 F1_score는 0.4602977667493796\n",
      "Threshold가 0.16일때 F1_score는 0.46285172304773947\n",
      "Threshold가 0.17일때 F1_score는 0.46774193548387094\n",
      "Threshold가 0.18일때 F1_score는 0.46969696969696967\n",
      "Threshold가 0.19일때 F1_score는 0.4707464694014795\n",
      "Threshold가 0.2일때 F1_score는 0.4701467076083248\n",
      "Threshold가 0.21일때 F1_score는 0.47168508287292815\n",
      "Threshold가 0.22일때 F1_score는 0.4731107205623902\n",
      "Threshold가 0.23일때 F1_score는 0.47298747763864046\n",
      "Threshold가 0.24일때 F1_score는 0.4734369353089989\n",
      "Threshold가 0.25일때 F1_score는 0.47441520467836257\n",
      "Threshold가 0.26일때 F1_score는 0.47569573283858996\n",
      "Threshold가 0.27일때 F1_score는 0.47429643527204507\n",
      "Threshold가 0.28일때 F1_score는 0.47420333839150225\n",
      "Threshold가 0.29일때 F1_score는 0.4732415902140672\n",
      "Threshold가 0.3일때 F1_score는 0.47081561654425974\n",
      "Threshold가 0.31일때 F1_score는 0.4714620797498046\n",
      "Threshold가 0.32일때 F1_score는 0.4710059171597633\n",
      "Threshold가 0.33일때 F1_score는 0.4706820901475868\n",
      "Threshold가 0.34일때 F1_score는 0.4753833736884584\n",
      "Threshold가 0.35일때 F1_score는 0.47537647537647537\n",
      "Threshold가 0.36일때 F1_score는 0.47509263071222724\n",
      "Threshold가 0.37일때 F1_score는 0.47571606475716066\n",
      "Threshold가 0.38일때 F1_score는 0.473551637279597\n",
      "Threshold가 0.39일때 F1_score는 0.4723874256584537\n",
      "Threshold가 0.4일때 F1_score는 0.4740677239605658\n",
      "Threshold가 0.41일때 F1_score는 0.4717062634989201\n",
      "Threshold가 0.42일때 F1_score는 0.47135416666666674\n",
      "Threshold가 0.43일때 F1_score는 0.46940559440559443\n",
      "Threshold가 0.44일때 F1_score는 0.4675782973092193\n",
      "Threshold가 0.45일때 F1_score는 0.4654480606330807\n",
      "Threshold가 0.46일때 F1_score는 0.4648648648648649\n",
      "Threshold가 0.47일때 F1_score는 0.4586569209684788\n",
      "Threshold가 0.48일때 F1_score는 0.45500692201199816\n",
      "Threshold가 0.49일때 F1_score는 0.45467224546722457\n",
      "Threshold가 0.5일때 F1_score는 0.4473684210526316\n",
      "Threshold가 0.51일때 F1_score는 0.4431818181818182\n",
      "Threshold가 0.52일때 F1_score는 0.440952380952381\n",
      "Threshold가 0.53일때 F1_score는 0.44071051368218916\n",
      "Threshold가 0.54일때 F1_score는 0.4387409200968523\n",
      "Threshold가 0.55일때 F1_score는 0.43185148998534445\n",
      "Threshold가 0.56일때 F1_score는 0.42990654205607476\n",
      "Threshold가 0.57일때 F1_score는 0.42722305017386986\n",
      "Threshold가 0.58일때 F1_score는 0.42636045931103345\n",
      "Threshold가 0.59일때 F1_score는 0.42311557788944726\n",
      "Threshold가 0.6일때 F1_score는 0.4206791687785099\n",
      "Threshold가 0.61일때 F1_score는 0.41555783009211866\n",
      "Threshold가 0.62일때 F1_score는 0.41158221302998965\n",
      "Threshold가 0.63일때 F1_score는 0.4064616988014591\n",
      "Threshold가 0.64일때 F1_score는 0.4035733053074093\n",
      "Threshold가 0.65일때 F1_score는 0.39723844928305896\n",
      "Threshold가 0.66일때 F1_score는 0.3948635634028893\n",
      "Threshold가 0.67일때 F1_score는 0.39071775499190503\n",
      "Threshold가 0.68일때 F1_score는 0.3880108991825613\n",
      "Threshold가 0.69일때 F1_score는 0.38126721763085397\n"
     ]
    }
   ],
   "source": [
    "for th in range(0,70):\n",
    "    pred = bst.predict(dtest)\n",
    "    for i in range(0,30070):\n",
    "        if pred[i]>(th/100):\n",
    "            pred[i]=1\n",
    "        else:\n",
    "            pred[i]=0\n",
    "    fs = f1_score(pred,Y_val)\n",
    "    print(\"Threshold가 {a}일때 F1_score는 {b}\".format(a=th/100, b=fs))"
   ]
  },
  {
   "cell_type": "code",
   "execution_count": null,
   "metadata": {
    "collapsed": true
   },
   "outputs": [],
   "source": [
    "bst.save_model('0001.model')"
   ]
  },
  {
   "cell_type": "code",
   "execution_count": null,
   "metadata": {
    "collapsed": true
   },
   "outputs": [],
   "source": [
    "bst.load_model(\"model.bin\")"
   ]
  },
  {
   "cell_type": "code",
   "execution_count": 14,
   "metadata": {
    "collapsed": true
   },
   "outputs": [],
   "source": [
    "Testfinal = pd.read_csv(\"Test_final.csv\",encoding='EUC-KR') "
   ]
  },
  {
   "cell_type": "code",
   "execution_count": 15,
   "metadata": {},
   "outputs": [
    {
     "data": {
      "text/html": [
       "<div>\n",
       "<style>\n",
       "    .dataframe thead tr:only-child th {\n",
       "        text-align: right;\n",
       "    }\n",
       "\n",
       "    .dataframe thead th {\n",
       "        text-align: left;\n",
       "    }\n",
       "\n",
       "    .dataframe tbody tr th {\n",
       "        vertical-align: top;\n",
       "    }\n",
       "</style>\n",
       "<table border=\"1\" class=\"dataframe\">\n",
       "  <thead>\n",
       "    <tr style=\"text-align: right;\">\n",
       "      <th></th>\n",
       "      <th>CUST_ID</th>\n",
       "      <th>TARGET</th>\n",
       "      <th>BNK_LNIF_CNT</th>\n",
       "      <th>CPT_LNIF_CNT</th>\n",
       "      <th>SPART_LNIF_CNT</th>\n",
       "      <th>ECT_LNIF_CNT</th>\n",
       "      <th>TOT_LNIF_AMT</th>\n",
       "      <th>TOT_CLIF_AMT</th>\n",
       "      <th>BNK_LNIF_AMT</th>\n",
       "      <th>CPT_LNIF_AMT</th>\n",
       "      <th>...</th>\n",
       "      <th>60</th>\n",
       "      <th>61</th>\n",
       "      <th>62</th>\n",
       "      <th>63</th>\n",
       "      <th>64</th>\n",
       "      <th>65</th>\n",
       "      <th>66</th>\n",
       "      <th>67</th>\n",
       "      <th>68</th>\n",
       "      <th>69</th>\n",
       "    </tr>\n",
       "  </thead>\n",
       "  <tbody>\n",
       "    <tr>\n",
       "      <th>0</th>\n",
       "      <td>100</td>\n",
       "      <td></td>\n",
       "      <td>2.8</td>\n",
       "      <td>2.8</td>\n",
       "      <td>2.285714</td>\n",
       "      <td>1.0</td>\n",
       "      <td>1.842052</td>\n",
       "      <td>1.135824</td>\n",
       "      <td>1.743653</td>\n",
       "      <td>1.448533</td>\n",
       "      <td>...</td>\n",
       "      <td>0.0</td>\n",
       "      <td>0.0</td>\n",
       "      <td>0.0</td>\n",
       "      <td>1.0</td>\n",
       "      <td>0.0</td>\n",
       "      <td>0.0</td>\n",
       "      <td>0.0</td>\n",
       "      <td>1.0</td>\n",
       "      <td>0.0</td>\n",
       "      <td>0.0</td>\n",
       "    </tr>\n",
       "    <tr>\n",
       "      <th>1</th>\n",
       "      <td>188</td>\n",
       "      <td></td>\n",
       "      <td>2.8</td>\n",
       "      <td>1.0</td>\n",
       "      <td>1.000000</td>\n",
       "      <td>1.0</td>\n",
       "      <td>1.162978</td>\n",
       "      <td>1.162987</td>\n",
       "      <td>1.171620</td>\n",
       "      <td>1.000000</td>\n",
       "      <td>...</td>\n",
       "      <td>1.0</td>\n",
       "      <td>0.0</td>\n",
       "      <td>0.0</td>\n",
       "      <td>0.0</td>\n",
       "      <td>0.0</td>\n",
       "      <td>0.0</td>\n",
       "      <td>0.0</td>\n",
       "      <td>0.0</td>\n",
       "      <td>1.0</td>\n",
       "      <td>0.0</td>\n",
       "    </tr>\n",
       "    <tr>\n",
       "      <th>2</th>\n",
       "      <td>269</td>\n",
       "      <td></td>\n",
       "      <td>1.0</td>\n",
       "      <td>2.8</td>\n",
       "      <td>2.285714</td>\n",
       "      <td>1.0</td>\n",
       "      <td>1.054326</td>\n",
       "      <td>1.054335</td>\n",
       "      <td>1.000000</td>\n",
       "      <td>1.179431</td>\n",
       "      <td>...</td>\n",
       "      <td>0.0</td>\n",
       "      <td>0.0</td>\n",
       "      <td>1.0</td>\n",
       "      <td>0.0</td>\n",
       "      <td>0.0</td>\n",
       "      <td>0.0</td>\n",
       "      <td>0.0</td>\n",
       "      <td>1.0</td>\n",
       "      <td>0.0</td>\n",
       "      <td>0.0</td>\n",
       "    </tr>\n",
       "    <tr>\n",
       "      <th>3</th>\n",
       "      <td>323</td>\n",
       "      <td></td>\n",
       "      <td>1.0</td>\n",
       "      <td>1.0</td>\n",
       "      <td>2.285714</td>\n",
       "      <td>2.5</td>\n",
       "      <td>1.081489</td>\n",
       "      <td>1.081498</td>\n",
       "      <td>1.000000</td>\n",
       "      <td>1.000000</td>\n",
       "      <td>...</td>\n",
       "      <td>1.0</td>\n",
       "      <td>0.0</td>\n",
       "      <td>0.0</td>\n",
       "      <td>0.0</td>\n",
       "      <td>0.0</td>\n",
       "      <td>0.0</td>\n",
       "      <td>0.0</td>\n",
       "      <td>0.0</td>\n",
       "      <td>1.0</td>\n",
       "      <td>0.0</td>\n",
       "    </tr>\n",
       "    <tr>\n",
       "      <th>4</th>\n",
       "      <td>397</td>\n",
       "      <td></td>\n",
       "      <td>1.0</td>\n",
       "      <td>1.0</td>\n",
       "      <td>2.285714</td>\n",
       "      <td>2.5</td>\n",
       "      <td>2.222334</td>\n",
       "      <td>1.000000</td>\n",
       "      <td>1.000000</td>\n",
       "      <td>1.000000</td>\n",
       "      <td>...</td>\n",
       "      <td>1.0</td>\n",
       "      <td>0.0</td>\n",
       "      <td>0.0</td>\n",
       "      <td>0.0</td>\n",
       "      <td>0.0</td>\n",
       "      <td>0.0</td>\n",
       "      <td>0.0</td>\n",
       "      <td>0.0</td>\n",
       "      <td>1.0</td>\n",
       "      <td>0.0</td>\n",
       "    </tr>\n",
       "  </tbody>\n",
       "</table>\n",
       "<p>5 rows × 284 columns</p>\n",
       "</div>"
      ],
      "text/plain": [
       "   CUST_ID TARGET  BNK_LNIF_CNT  CPT_LNIF_CNT  SPART_LNIF_CNT  ECT_LNIF_CNT  \\\n",
       "0      100                  2.8           2.8        2.285714           1.0   \n",
       "1      188                  2.8           1.0        1.000000           1.0   \n",
       "2      269                  1.0           2.8        2.285714           1.0   \n",
       "3      323                  1.0           1.0        2.285714           2.5   \n",
       "4      397                  1.0           1.0        2.285714           2.5   \n",
       "\n",
       "   TOT_LNIF_AMT  TOT_CLIF_AMT  BNK_LNIF_AMT  CPT_LNIF_AMT ...    60   61   62  \\\n",
       "0      1.842052      1.135824      1.743653      1.448533 ...   0.0  0.0  0.0   \n",
       "1      1.162978      1.162987      1.171620      1.000000 ...   1.0  0.0  0.0   \n",
       "2      1.054326      1.054335      1.000000      1.179431 ...   0.0  0.0  1.0   \n",
       "3      1.081489      1.081498      1.000000      1.000000 ...   1.0  0.0  0.0   \n",
       "4      2.222334      1.000000      1.000000      1.000000 ...   1.0  0.0  0.0   \n",
       "\n",
       "    63   64   65   66   67   68   69  \n",
       "0  1.0  0.0  0.0  0.0  1.0  0.0  0.0  \n",
       "1  0.0  0.0  0.0  0.0  0.0  1.0  0.0  \n",
       "2  0.0  0.0  0.0  0.0  1.0  0.0  0.0  \n",
       "3  0.0  0.0  0.0  0.0  0.0  1.0  0.0  \n",
       "4  0.0  0.0  0.0  0.0  0.0  1.0  0.0  \n",
       "\n",
       "[5 rows x 284 columns]"
      ]
     },
     "execution_count": 15,
     "metadata": {},
     "output_type": "execute_result"
    }
   ],
   "source": [
    "Testfinal.head()"
   ]
  },
  {
   "cell_type": "code",
   "execution_count": 18,
   "metadata": {
    "collapsed": true
   },
   "outputs": [],
   "source": [
    "#Nan과 Inf를 포함하는 변수 지우기\n",
    "Testfinal = Testfinal.drop(labels=([\"CHLD_AGE_10s\",\"CHLD_AGE_29s\",\"YEAR08-09_@\",\"RATIO_30OVDU_RATE\"]),axis=1)\n"
   ]
  },
  {
   "cell_type": "code",
   "execution_count": 19,
   "metadata": {
    "collapsed": true
   },
   "outputs": [],
   "source": [
    "Testfinal = Testfinal.drop(labels=([\"CUST_ID\",\"TARGET\"]),axis=1)"
   ]
  },
  {
   "cell_type": "code",
   "execution_count": 28,
   "metadata": {},
   "outputs": [
    {
     "data": {
      "text/html": [
       "<div>\n",
       "<style>\n",
       "    .dataframe thead tr:only-child th {\n",
       "        text-align: right;\n",
       "    }\n",
       "\n",
       "    .dataframe thead th {\n",
       "        text-align: left;\n",
       "    }\n",
       "\n",
       "    .dataframe tbody tr th {\n",
       "        vertical-align: top;\n",
       "    }\n",
       "</style>\n",
       "<table border=\"1\" class=\"dataframe\">\n",
       "  <thead>\n",
       "    <tr style=\"text-align: right;\">\n",
       "      <th></th>\n",
       "      <th>BNK_LNIF_CNT</th>\n",
       "      <th>CPT_LNIF_CNT</th>\n",
       "      <th>SPART_LNIF_CNT</th>\n",
       "      <th>ECT_LNIF_CNT</th>\n",
       "      <th>TOT_LNIF_AMT</th>\n",
       "      <th>TOT_CLIF_AMT</th>\n",
       "      <th>BNK_LNIF_AMT</th>\n",
       "      <th>CPT_LNIF_AMT</th>\n",
       "      <th>CRDT_OCCR_MDIF</th>\n",
       "      <th>SPTCT_OCCR_MDIF</th>\n",
       "      <th>...</th>\n",
       "      <th>60</th>\n",
       "      <th>61</th>\n",
       "      <th>62</th>\n",
       "      <th>63</th>\n",
       "      <th>64</th>\n",
       "      <th>65</th>\n",
       "      <th>66</th>\n",
       "      <th>67</th>\n",
       "      <th>68</th>\n",
       "      <th>69</th>\n",
       "    </tr>\n",
       "  </thead>\n",
       "  <tbody>\n",
       "    <tr>\n",
       "      <th>0</th>\n",
       "      <td>2.8</td>\n",
       "      <td>2.8</td>\n",
       "      <td>2.285714</td>\n",
       "      <td>1.0</td>\n",
       "      <td>1.842052</td>\n",
       "      <td>1.135824</td>\n",
       "      <td>1.743653</td>\n",
       "      <td>1.448533</td>\n",
       "      <td>1.966942</td>\n",
       "      <td>1.966942</td>\n",
       "      <td>...</td>\n",
       "      <td>0.0</td>\n",
       "      <td>0.0</td>\n",
       "      <td>0.0</td>\n",
       "      <td>1.0</td>\n",
       "      <td>0.0</td>\n",
       "      <td>0.0</td>\n",
       "      <td>0.0</td>\n",
       "      <td>1.0</td>\n",
       "      <td>0.0</td>\n",
       "      <td>0.0</td>\n",
       "    </tr>\n",
       "    <tr>\n",
       "      <th>1</th>\n",
       "      <td>2.8</td>\n",
       "      <td>1.0</td>\n",
       "      <td>1.000000</td>\n",
       "      <td>1.0</td>\n",
       "      <td>1.162978</td>\n",
       "      <td>1.162987</td>\n",
       "      <td>1.171620</td>\n",
       "      <td>1.000000</td>\n",
       "      <td>1.966942</td>\n",
       "      <td>1.000000</td>\n",
       "      <td>...</td>\n",
       "      <td>1.0</td>\n",
       "      <td>0.0</td>\n",
       "      <td>0.0</td>\n",
       "      <td>0.0</td>\n",
       "      <td>0.0</td>\n",
       "      <td>0.0</td>\n",
       "      <td>0.0</td>\n",
       "      <td>0.0</td>\n",
       "      <td>1.0</td>\n",
       "      <td>0.0</td>\n",
       "    </tr>\n",
       "    <tr>\n",
       "      <th>2</th>\n",
       "      <td>1.0</td>\n",
       "      <td>2.8</td>\n",
       "      <td>2.285714</td>\n",
       "      <td>1.0</td>\n",
       "      <td>1.054326</td>\n",
       "      <td>1.054335</td>\n",
       "      <td>1.000000</td>\n",
       "      <td>1.179431</td>\n",
       "      <td>1.074380</td>\n",
       "      <td>1.074380</td>\n",
       "      <td>...</td>\n",
       "      <td>0.0</td>\n",
       "      <td>0.0</td>\n",
       "      <td>1.0</td>\n",
       "      <td>0.0</td>\n",
       "      <td>0.0</td>\n",
       "      <td>0.0</td>\n",
       "      <td>0.0</td>\n",
       "      <td>1.0</td>\n",
       "      <td>0.0</td>\n",
       "      <td>0.0</td>\n",
       "    </tr>\n",
       "    <tr>\n",
       "      <th>3</th>\n",
       "      <td>1.0</td>\n",
       "      <td>1.0</td>\n",
       "      <td>2.285714</td>\n",
       "      <td>2.5</td>\n",
       "      <td>1.081489</td>\n",
       "      <td>1.081498</td>\n",
       "      <td>1.000000</td>\n",
       "      <td>1.000000</td>\n",
       "      <td>4.644628</td>\n",
       "      <td>4.644628</td>\n",
       "      <td>...</td>\n",
       "      <td>1.0</td>\n",
       "      <td>0.0</td>\n",
       "      <td>0.0</td>\n",
       "      <td>0.0</td>\n",
       "      <td>0.0</td>\n",
       "      <td>0.0</td>\n",
       "      <td>0.0</td>\n",
       "      <td>0.0</td>\n",
       "      <td>1.0</td>\n",
       "      <td>0.0</td>\n",
       "    </tr>\n",
       "    <tr>\n",
       "      <th>4</th>\n",
       "      <td>1.0</td>\n",
       "      <td>1.0</td>\n",
       "      <td>2.285714</td>\n",
       "      <td>2.5</td>\n",
       "      <td>2.222334</td>\n",
       "      <td>1.000000</td>\n",
       "      <td>1.000000</td>\n",
       "      <td>1.000000</td>\n",
       "      <td>1.074380</td>\n",
       "      <td>10.000000</td>\n",
       "      <td>...</td>\n",
       "      <td>1.0</td>\n",
       "      <td>0.0</td>\n",
       "      <td>0.0</td>\n",
       "      <td>0.0</td>\n",
       "      <td>0.0</td>\n",
       "      <td>0.0</td>\n",
       "      <td>0.0</td>\n",
       "      <td>0.0</td>\n",
       "      <td>1.0</td>\n",
       "      <td>0.0</td>\n",
       "    </tr>\n",
       "  </tbody>\n",
       "</table>\n",
       "<p>5 rows × 278 columns</p>\n",
       "</div>"
      ],
      "text/plain": [
       "   BNK_LNIF_CNT  CPT_LNIF_CNT  SPART_LNIF_CNT  ECT_LNIF_CNT  TOT_LNIF_AMT  \\\n",
       "0           2.8           2.8        2.285714           1.0      1.842052   \n",
       "1           2.8           1.0        1.000000           1.0      1.162978   \n",
       "2           1.0           2.8        2.285714           1.0      1.054326   \n",
       "3           1.0           1.0        2.285714           2.5      1.081489   \n",
       "4           1.0           1.0        2.285714           2.5      2.222334   \n",
       "\n",
       "   TOT_CLIF_AMT  BNK_LNIF_AMT  CPT_LNIF_AMT  CRDT_OCCR_MDIF  SPTCT_OCCR_MDIF  \\\n",
       "0      1.135824      1.743653      1.448533        1.966942         1.966942   \n",
       "1      1.162987      1.171620      1.000000        1.966942         1.000000   \n",
       "2      1.054335      1.000000      1.179431        1.074380         1.074380   \n",
       "3      1.081498      1.000000      1.000000        4.644628         4.644628   \n",
       "4      1.000000      1.000000      1.000000        1.074380        10.000000   \n",
       "\n",
       "  ...    60   61   62   63   64   65   66   67   68   69  \n",
       "0 ...   0.0  0.0  0.0  1.0  0.0  0.0  0.0  1.0  0.0  0.0  \n",
       "1 ...   1.0  0.0  0.0  0.0  0.0  0.0  0.0  0.0  1.0  0.0  \n",
       "2 ...   0.0  0.0  1.0  0.0  0.0  0.0  0.0  1.0  0.0  0.0  \n",
       "3 ...   1.0  0.0  0.0  0.0  0.0  0.0  0.0  0.0  1.0  0.0  \n",
       "4 ...   1.0  0.0  0.0  0.0  0.0  0.0  0.0  0.0  1.0  0.0  \n",
       "\n",
       "[5 rows x 278 columns]"
      ]
     },
     "execution_count": 28,
     "metadata": {},
     "output_type": "execute_result"
    }
   ],
   "source": [
    "Testfinal.head()"
   ]
  },
  {
   "cell_type": "code",
   "execution_count": 31,
   "metadata": {
    "collapsed": true
   },
   "outputs": [],
   "source": [
    "dTestfinal = xgb.DMatrix(Testfinal)"
   ]
  },
  {
   "cell_type": "code",
   "execution_count": 71,
   "metadata": {
    "collapsed": true
   },
   "outputs": [],
   "source": [
    "pred = bst.predict(dTestfinal)"
   ]
  },
  {
   "cell_type": "code",
   "execution_count": 72,
   "metadata": {},
   "outputs": [
    {
     "data": {
      "text/plain": [
       "(2019,)"
      ]
     },
     "execution_count": 72,
     "metadata": {},
     "output_type": "execute_result"
    }
   ],
   "source": [
    "pred.shape"
   ]
  },
  {
   "cell_type": "code",
   "execution_count": 20,
   "metadata": {},
   "outputs": [
    {
     "ename": "NameError",
     "evalue": "name 'dfull' is not defined",
     "output_type": "error",
     "traceback": [
      "\u001b[1;31m---------------------------------------------------------------------------\u001b[0m",
      "\u001b[1;31mNameError\u001b[0m                                 Traceback (most recent call last)",
      "\u001b[1;32m<ipython-input-20-da5221329525>\u001b[0m in \u001b[0;36m<module>\u001b[1;34m()\u001b[0m\n\u001b[0;32m     15\u001b[0m \u001b[0mplst\u001b[0m \u001b[1;33m=\u001b[0m \u001b[0mxgb_param\u001b[0m\u001b[1;33m.\u001b[0m\u001b[0mitems\u001b[0m\u001b[1;33m(\u001b[0m\u001b[1;33m)\u001b[0m\u001b[1;33m\u001b[0m\u001b[0m\n\u001b[0;32m     16\u001b[0m \u001b[1;33m\u001b[0m\u001b[0m\n\u001b[1;32m---> 17\u001b[1;33m \u001b[0mevallist\u001b[0m  \u001b[1;33m=\u001b[0m \u001b[1;33m[\u001b[0m\u001b[1;33m(\u001b[0m\u001b[0mdfull\u001b[0m\u001b[1;33m,\u001b[0m\u001b[1;34m'full'\u001b[0m\u001b[1;33m)\u001b[0m\u001b[1;33m]\u001b[0m\u001b[1;33m\u001b[0m\u001b[0m\n\u001b[0m\u001b[0;32m     18\u001b[0m \u001b[1;33m\u001b[0m\u001b[0m\n\u001b[0;32m     19\u001b[0m \u001b[0mnum_round\u001b[0m \u001b[1;33m=\u001b[0m \u001b[1;36m399\u001b[0m  \u001b[1;31m# 반복횟수\u001b[0m\u001b[1;33m\u001b[0m\u001b[0m\n",
      "\u001b[1;31mNameError\u001b[0m: name 'dfull' is not defined"
     ]
    }
   ],
   "source": [
    "xgb_param = {\n",
    "         'max_depth':12, \n",
    "         'eta':0.1,  \n",
    "         'silent':False,\n",
    "         'objective':'binary:logistic',\n",
    "    'gamma' : 0.3,\n",
    "    'min_child_weight' : 1,\n",
    "    'max_delta_step' : 0,\n",
    "    'subsample' : 0.8,\n",
    "    'colsample_bytree' : 0.8,\n",
    "    'base_score' : 0.5,\n",
    "    'nthread' : 2\n",
    "         }\n",
    "\n",
    "plst = xgb_param.items()\n",
    "\n",
    "evallist  = [(dfull,'full')]\n",
    "\n",
    "num_round = 300  # 반복횟수\n",
    "bst = xgb.train(xgb_param,dfull, num_round,\n",
    "                 feval=xgb_f1,maximize=True,verbose_eval=True)"
   ]
  },
  {
   "cell_type": "code",
   "execution_count": 116,
   "metadata": {
    "collapsed": true
   },
   "outputs": [],
   "source": [
    "pred = bst.predict(dTestfinal)\n"
   ]
  },
  {
   "cell_type": "code",
   "execution_count": 117,
   "metadata": {
    "collapsed": true
   },
   "outputs": [],
   "source": [
    "\n",
    "for i in range(0,2019):\n",
    "    if pred[i]>(17/100):\n",
    "        pred[i]=1\n",
    "    else:\n",
    "        pred[i]=0"
   ]
  },
  {
   "cell_type": "code",
   "execution_count": 104,
   "metadata": {},
   "outputs": [
    {
     "data": {
      "text/plain": [
       "(2019,)"
      ]
     },
     "execution_count": 104,
     "metadata": {},
     "output_type": "execute_result"
    }
   ],
   "source": [
    "pred.shape"
   ]
  },
  {
   "cell_type": "code",
   "execution_count": 118,
   "metadata": {
    "collapsed": true
   },
   "outputs": [],
   "source": [
    "Answer_s = pd.read_excel(\"Answer_sheet.xlsx\",encoding='EUC-KR')\n",
    "Answer_s.TARGET = pred\n",
    "writer = pd.ExcelWriter('0929Answer_sheet.xlsx', engine='xlsxwriter')\n",
    "\n",
    "# Convert the dataframe to an XlsxWriter Excel object.\n",
    "Answer_s.to_excel(writer, sheet_name='Sheet1')\n",
    "\n",
    "# Close the Pandas Excel writer and output the Excel file.\n",
    "writer.save()"
   ]
  },
  {
   "cell_type": "markdown",
   "metadata": {
    "collapsed": true
   },
   "source": [
    "#### ROC Curve"
   ]
  },
  {
   "cell_type": "code",
   "execution_count": 42,
   "metadata": {
    "collapsed": true
   },
   "outputs": [],
   "source": [
    "from sklearn.metrics import roc_curve, auc\n",
    "import matplotlib.pyplot as plt\n",
    "import pylab as pl"
   ]
  },
  {
   "cell_type": "code",
   "execution_count": 93,
   "metadata": {
    "collapsed": true
   },
   "outputs": [],
   "source": [
    "# Determine the false positive and true positive rates\n",
    "fpr, tpr, thresholds = roc_curve(Y_val, bst.predict(dtest))"
   ]
  },
  {
   "cell_type": "code",
   "execution_count": 40,
   "metadata": {},
   "outputs": [
    {
     "name": "stdout",
     "output_type": "stream",
     "text": [
      "ROC AUC: 0.93\n"
     ]
    },
    {
     "data": {
      "image/png": "[encoded data removed]",
      "text/plain": [
       "<matplotlib.figure.Figure at 0x2ca923e60b8>"
      ]
     },
     "metadata": {},
     "output_type": "display_data"
    }
   ],
   "source": [
    "# Calculate the AUC\n",
    "roc_auc = auc(fpr, tpr)\n",
    "print ('ROC AUC: %0.2f' % roc_auc)\n",
    " \n",
    "# Plot of a ROC curve for a specific class\n",
    "plt.figure()\n",
    "plt.plot(fpr, tpr, label='ROC curve (area = %0.2f)' % roc_auc)\n",
    "plt.plot([0, 1], [0, 1], 'k--')\n",
    "plt.xlim([0.0, 1.0])\n",
    "plt.ylim([0.0, 1.05])\n",
    "plt.xlabel('False Positive Rate')\n",
    "plt.ylabel('True Positive Rate')\n",
    "plt.title('ROC Curve')\n",
    "plt.legend(loc=\"lower right\")\n",
    "plt.show()"
   ]
  },
  {
   "cell_type": "code",
   "execution_count": 56,
   "metadata": {},
   "outputs": [
    {
     "data": {
      "text/html": [
       "<div>\n",
       "<style>\n",
       "    .dataframe thead tr:only-child th {\n",
       "        text-align: right;\n",
       "    }\n",
       "\n",
       "    .dataframe thead th {\n",
       "        text-align: left;\n",
       "    }\n",
       "\n",
       "    .dataframe tbody tr th {\n",
       "        vertical-align: top;\n",
       "    }\n",
       "</style>\n",
       "<table border=\"1\" class=\"dataframe\">\n",
       "  <thead>\n",
       "    <tr style=\"text-align: right;\">\n",
       "      <th></th>\n",
       "      <th>1-fpr</th>\n",
       "      <th>fpr</th>\n",
       "      <th>tf</th>\n",
       "      <th>thresholds</th>\n",
       "      <th>tpr</th>\n",
       "    </tr>\n",
       "  </thead>\n",
       "  <tbody>\n",
       "    <tr>\n",
       "      <th>1350</th>\n",
       "      <td>0.848029</td>\n",
       "      <td>0.151971</td>\n",
       "      <td>0.000598</td>\n",
       "      <td>0.014241</td>\n",
       "      <td>0.848627</td>\n",
       "    </tr>\n",
       "  </tbody>\n",
       "</table>\n",
       "</div>"
      ],
      "text/plain": [
       "         1-fpr       fpr        tf  thresholds       tpr\n",
       "1350  0.848029  0.151971  0.000598    0.014241  0.848627"
      ]
     },
     "execution_count": 56,
     "metadata": {},
     "output_type": "execute_result"
    }
   ],
   "source": [
    "i = np.arange(len(tpr)) # index for df\n",
    "roc = pd.DataFrame({'fpr' : pd.Series(fpr, index=i),'tpr' : pd.Series(tpr, index = i), '1-fpr' : pd.Series(1-fpr, index = i), 'tf' : pd.Series(tpr - (1-fpr), index = i), 'thresholds' : pd.Series(thresholds, index = i)})\n",
    "roc.loc[(roc.tf-0).abs().argsort()[:1]]\n"
   ]
  },
  {
   "cell_type": "code",
   "execution_count": 70,
   "metadata": {
    "collapsed": true
   },
   "outputs": [],
   "source": [
    "from sklearn.metrics import precision_recall_curve\n",
    "from sklearn.metrics import average_precision_score"
   ]
  },
  {
   "cell_type": "code",
   "execution_count": 71,
   "metadata": {},
   "outputs": [
    {
     "name": "stdout",
     "output_type": "stream",
     "text": [
      "Average precision-recall score: 0.47\n"
     ]
    }
   ],
   "source": [
    "\n",
    "average_precision = average_precision_score(Y_val, bst.predict(dtest))\n",
    "\n",
    "print('Average precision-recall score: {0:0.2f}'.format(\n",
    "      average_precision))"
   ]
  },
  {
   "cell_type": "markdown",
   "metadata": {},
   "source": [
    "##### Opimize f1 score "
   ]
  },
  {
   "cell_type": "code",
   "execution_count": 23,
   "metadata": {
    "collapsed": true
   },
   "outputs": [],
   "source": [
    "from sklearn.metrics import precision_recall_curve"
   ]
  },
  {
   "cell_type": "code",
   "execution_count": 24,
   "metadata": {
    "collapsed": true
   },
   "outputs": [],
   "source": [
    "precision, recall, thresholds = precision_recall_curve(Y_val, bst.predict(dtest))"
   ]
  },
  {
   "cell_type": "code",
   "execution_count": 25,
   "metadata": {
    "collapsed": true,
    "scrolled": true
   },
   "outputs": [],
   "source": [
    "i = np.arange(len(precision[:-2]))# index for df\n",
    "#f1 : precision과 recall의 조화 평균\n",
    "roc = pd.DataFrame({'Precision' : pd.Series(precision[:-2], index=i),'recall' : pd.Series(recall[:-2], index = i), \n",
    "                    'f1' : pd.Series(((2*precision[:-2]*recall[:-2])/(precision[:-2]+recall[:-2])), index = i), \n",
    "                    'thresholds' : pd.Series(thresholds[:-1], index = i)})"
   ]
  },
  {
   "cell_type": "code",
   "execution_count": 26,
   "metadata": {},
   "outputs": [
    {
     "data": {
      "text/html": [
       "<div>\n",
       "<style>\n",
       "    .dataframe thead tr:only-child th {\n",
       "        text-align: right;\n",
       "    }\n",
       "\n",
       "    .dataframe thead th {\n",
       "        text-align: left;\n",
       "    }\n",
       "\n",
       "    .dataframe tbody tr th {\n",
       "        vertical-align: top;\n",
       "    }\n",
       "</style>\n",
       "<table border=\"1\" class=\"dataframe\">\n",
       "  <thead>\n",
       "    <tr style=\"text-align: right;\">\n",
       "      <th></th>\n",
       "      <th>Precision</th>\n",
       "      <th>f1</th>\n",
       "      <th>recall</th>\n",
       "      <th>thresholds</th>\n",
       "    </tr>\n",
       "  </thead>\n",
       "  <tbody>\n",
       "    <tr>\n",
       "      <th>25636</th>\n",
       "      <td>0.438911</td>\n",
       "      <td>0.492208</td>\n",
       "      <td>0.560237</td>\n",
       "      <td>0.147346</td>\n",
       "    </tr>\n",
       "  </tbody>\n",
       "</table>\n",
       "</div>"
      ],
      "text/plain": [
       "       Precision        f1    recall  thresholds\n",
       "25636   0.438911  0.492208  0.560237    0.147346"
      ]
     },
     "execution_count": 26,
     "metadata": {},
     "output_type": "execute_result"
    }
   ],
   "source": [
    "roc.loc[roc.f1==roc.f1.max()]"
   ]
  },
  {
   "cell_type": "code",
   "execution_count": 192,
   "metadata": {
    "collapsed": true
   },
   "outputs": [],
   "source": [
    "# n = 300 \n",
    "#Precision\tf1\trecall\tthresholds\n",
    "#0.437028\t0.484806\t0.544314\t0.168189\n",
    "\n",
    "#n n=399\n",
    "#Precision\tf1\trecall\tthresholds\n",
    "#0.438911\t0.492208\t0.560237\t0.147346"
   ]
  },
  {
   "cell_type": "code",
   "execution_count": null,
   "metadata": {
    "collapsed": true
   },
   "outputs": [],
   "source": []
  }
 ],
 "metadata": {
  "kernelspec": {
   "display_name": "Python 3",
   "language": "python",
   "name": "python3"
  },
  "language_info": {
   "codemirror_mode": {
    "name": "ipython",
    "version": 3
   },
   "file_extension": ".py",
   "mimetype": "text/x-python",
   "name": "python",
   "nbconvert_exporter": "python",
   "pygments_lexer": "ipython3",
   "version": "3.7.1"
  },
  "varInspector": {
   "cols": {
    "lenName": 16,
    "lenType": 16,
    "lenVar": 40
   },
   "kernels_config": {
    "python": {
     "delete_cmd_postfix": "",
     "delete_cmd_prefix": "del ",
     "library": "var_list.py",
     "varRefreshCmd": "print(var_dic_list())"
    },
    "r": {
     "delete_cmd_postfix": ") ",
     "delete_cmd_prefix": "rm(",
     "library": "var_list.r",
     "varRefreshCmd": "cat(var_dic_list()) "
    }
   },
   "types_to_exclude": [
    "module",
    "function",
    "builtin_function_or_method",
    "instance",
    "_Feature"
   ],
   "window_display": false
  }
 },
 "nbformat": 4,
 "nbformat_minor": 2
}
